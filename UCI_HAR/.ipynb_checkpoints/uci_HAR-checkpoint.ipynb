{
 "cells": [
  {
   "cell_type": "markdown",
   "metadata": {
    "deletable": true,
    "editable": true
   },
   "source": [
    "# Classification and clustering of Human Activity Recognition with Smartphones \n",
    "\n",
    "This dataset comes from the <a href=https://archive.ics.uci.edu/ml/>UCI Machine-Learning repository</a>. Please first read the <a href=https://archive.ics.uci.edu/ml/datasets/Smartphone+Dataset+for+Human+Activity+Recognition+%28HAR%29+in+Ambient+Assisted+Living+%28AAL%29>dataset description</a> to understand what is the data.\n",
    "\n",
    "\n",
    "<b>The goal on this dataset is first to perform clustering on UNLABELLED data, and to learn a classifier on LABELLED. Finally, analysis should be conducted to check whether or not the clustering could be used for classification (i.e. does the clusters properly map on classes, possibly with more than 1 cluster per class?).</b>\n",
    "\n",
    "Each example is a vector of dimension 561. And there are 7352 training examples, and 2947 testing examples.\n",
    "\n"
   ]
  },
  {
   "cell_type": "markdown",
   "metadata": {},
   "source": [
    "### Step 0: import the necessary packets"
   ]
  },
  {
   "cell_type": "code",
   "execution_count": 9,
   "metadata": {
    "collapsed": false,
    "deletable": true,
    "editable": true
   },
   "outputs": [],
   "source": [
    "import numpy as np \n",
    "import pandas as pd \n",
    "import matplotlib.pylab as plt\n",
    "import sklearn"
   ]
  },
  {
   "cell_type": "markdown",
   "metadata": {
    "deletable": true,
    "editable": true
   },
   "source": [
    "### Step 1: Data loading and formatting"
   ]
  },
  {
   "cell_type": "code",
   "execution_count": 10,
   "metadata": {
    "collapsed": false,
    "deletable": true,
    "editable": true
   },
   "outputs": [
    {
     "name": "stdout",
     "output_type": "stream",
     "text": [
      "(7352, 561)\n",
      "(2947, 561)\n"
     ]
    }
   ],
   "source": [
    "# Import the HAR dataset\n",
    "x_train_file = open('train/X_train.txt', 'r')\n",
    "y_train_file = open('train/y_train.txt', 'r')\n",
    "\n",
    "x_test_file = open('test/X_test.txt', 'r')\n",
    "y_test_file = open('test/y_test.txt', 'r')\n",
    "\n",
    "# Create empty lists\n",
    "x_train = []\n",
    "y_train = []\n",
    "x_test = []\n",
    "y_test = []\n",
    "\n",
    "# Mapping table for classes\n",
    "labels = {1:'WALKING', 2:'WALKING UPSTAIRS', 3:'WALKING DOWNSTAIRS',\n",
    "          4:'SITTING', 5:'STANDING', 6:'LAYING'}\n",
    "\n",
    "# Loop through datasets\n",
    "for x in x_train_file:\n",
    "    x_train.append([float(ts) for ts in x.split()])\n",
    "    \n",
    "for y in y_train_file:\n",
    "    y_train.append(int(y.rstrip('\\n')))\n",
    "    \n",
    "for x in x_test_file:\n",
    "    x_test.append([float(ts) for ts in x.split()])\n",
    "    \n",
    "for y in y_test_file:\n",
    "    y_test.append(int(y.rstrip('\\n')))\n",
    "    \n",
    "# Convert to numpy for efficiency\n",
    "x_train = np.array(x_train)\n",
    "y_train = np.array(y_train)\n",
    "x_test = np.array(x_test)\n",
    "y_test = np.array(y_test)\n",
    "\n",
    "# for the utilisation of binary classifier or neural network we also require the class encoded in forms of one-hot vectors  \n",
    "from sklearn.preprocessing import LabelBinarizer\n",
    "from subprocess import check_output\n",
    "binarizer = LabelBinarizer().fit(y_train)\n",
    "y_train_onehot = binarizer.transform(y_train)\n",
    "y_test_onehot = binarizer.transform(y_test)\n",
    "\n",
    "print( x_train.shape )\n",
    "print( x_test.shape )\n"
   ]
  },
  {
   "cell_type": "code",
   "execution_count": null,
   "metadata": {
    "collapsed": true
   },
   "outputs": [],
   "source": []
  }
 ],
 "metadata": {
  "kernelspec": {
   "display_name": "Python [conda root]",
   "language": "python",
   "name": "conda-root-py"
  },
  "language_info": {
   "codemirror_mode": {
    "name": "ipython",
    "version": 3
   },
   "file_extension": ".py",
   "mimetype": "text/x-python",
   "name": "python",
   "nbconvert_exporter": "python",
   "pygments_lexer": "ipython3",
   "version": "3.5.3"
  }
 },
 "nbformat": 4,
 "nbformat_minor": 2
}
