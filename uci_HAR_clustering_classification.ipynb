{
 "cells": [
  {
   "cell_type": "markdown",
   "metadata": {
    "colab_type": "text",
    "id": "4TPgClvg0dnH"
   },
   "source": [
    "# Classification and clustering of uci-HAR data\n",
    "\n",
    "This dataset comes from the <a href=https://archive.ics.uci.edu/ml/>UCI Machine-Learning repository</a>. Please first read the <a href=https://archive.ics.uci.edu/ml/datasets/Smartphone+Dataset+for+Human+Activity+Recognition+%28HAR%29+in+Ambient+Assisted+Living+%28AAL%29>dataset description</a> to understand what is the data.\n",
    "\n",
    "\n",
    "<b>The goal on this dataset is first to perform clustering on UNLABELLED data, and to learn a classifier on LABELLED. Finally, analysis should be conducted to check whether or not the clustering could be used for classification (i.e. does the clusters properly map on classes, possibly with more than 1 cluster per class?).</b>"
   ]
  },
  {
   "cell_type": "markdown",
   "metadata": {
    "colab_type": "text",
    "id": "ZeE3p9nV0dnR"
   },
   "source": [
    "### Data Set\n",
    "\n",
    "#### Information\n",
    "We collected more dataset to improve the accuracy of our HAR algorithms applied in\n",
    "a Social connectedness experiment in the domain of Ambient Assisted Living.\n",
    "The dataset was collected from the in-built accelerometer and gyroscope of a\n",
    "smartphone worn around the waist of participants. See waist_mounted_phone.PNG.\n",
    "The data was collected from 30 participants within the age group of 22-79 years.\n",
    "Each activity (standing, sitting, laying, walking, walking upstairs, walking downstairs) was\n",
    "performed for 60secs and the 3-axial linear acceleration and 3-axial angular velocity were\n",
    "collected at a constant rate of 50Hz.\n",
    "\n",
    "#### Data of extracted features:  \n",
    "For each record in the dataset it is provided:\n",
    "- A 561-feature vector with time and frequency domain variables. \n",
    "- Its activity label. The labels are from 1 to 6, corresponding to: 1 WALKING; 2 WALKING_UPSTAIRS; 3 WALKING_DOWNSTAIRS; 4 SITTING; 5 STANDING; 6 LAYING\n",
    "\n",
    "##### File details:\n",
    "- 'train/**X_train.txt**': Training set: 7352 samples * 561 features\n",
    "- 'train/**y_train.txt**': Training labels: 7352 samples * 1 label\n",
    "- 'test/**X_test.txt**': Test set: 2947 samples * 561 features\n",
    "- 'test/**y_test.txt**': Test labels: 2947 samples * 1 label\n",
    "- 'features.txt': List of all features.\n",
    "- 'features_info.txt': Shows information about the variables used on the feature vector.\n",
    "- 'activity_labels.txt': Links the class labels with their activity name.\n",
    "\n",
    "\n",
    "#### Data of time sequences:  \n",
    "The dataset also includes the **time sequences** of Accelerometer & Gyroscope signals of each record before extracting the features.\n",
    "They are available for the train and test data. Their descriptions are equivalent. \n",
    "- 'train/Inertial Signals/**total_acc_x_train.txt**': The acceleration signal from the smartphone accelerometer X axis in standard gravity units 'g'. Every row shows a 128 element vector. The same description applies for the 'total_acc_y_train.txt' and 'total_acc_z_train.txt' files for the Y and Z axis. \n",
    "- 'train/Inertial Signals/**body_acc_x_train.txt**': The body acceleration signal obtained by subtracting the gravity from the total acceleration. \n",
    "- 'train/Inertial Signals/**body_gyro_x_train.txt**': The angular velocity vector measured by the gyroscope for each window sample. The units are radians/second. "
   ]
  },
  {
   "cell_type": "markdown",
   "metadata": {
    "colab_type": "text",
    "id": "jnPBOz8s0dnX"
   },
   "source": [
    "### Algorithms to use:\n",
    "For this mini project, we will use following machine learning algorithms to analyze the data of extracted features:\n",
    "   1. Dimensionality Reduction (Unsupervised Learning):\n",
    "        - **TSNE**\n",
    "   2. Clustering (Unsupervised Learning):\n",
    "        - **K-Means**\n",
    "        - **AHC**\n",
    "        - **GMM**\n",
    "   3. Classification (Supervised Learning):\n",
    "        - **Random Forest**\n",
    "        - **MLP**\n",
    "\n",
    "We will also use following machine learning classification algorithms to analyze the time sequences of Accelerometer & Gyroscope signals:\n",
    "   4. **HMM** (Supervised Learning) -- Please check \"**uci_HAR_sequence_HMM.ipynb**\"\n",
    "   5. **LSTM** (Supervised Learning) -- Please check \"**uci_HAR_sequence_LSTM.ipynb**\""
   ]
  },
  {
   "cell_type": "markdown",
   "metadata": {
    "colab_type": "text",
    "id": "wnefOAkJ0dna"
   },
   "source": [
    "### Step 0: import the necessary packets"
   ]
  },
  {
   "cell_type": "code",
   "execution_count": 1,
   "metadata": {
    "colab": {
     "base_uri": "https://localhost:8080/",
     "height": 118
    },
    "colab_type": "code",
    "collapsed": true,
    "id": "We_KXoAU0joa",
    "outputId": "eea23b58-3e72-44e4-f53d-1f9fbb0d144e"
   },
   "outputs": [
    {
     "name": "stdout",
     "output_type": "stream",
     "text": [
      "Go to this URL in a browser: https://accounts.google.com/o/oauth2/auth?client_id=947318989803-6bn6qk8qdgf4n4g3pfee6491hc0brc4i.apps.googleusercontent.com&redirect_uri=urn%3aietf%3awg%3aoauth%3a2.0%3aoob&response_type=code&scope=email%20https%3a%2f%2fwww.googleapis.com%2fauth%2fdocs.test%20https%3a%2f%2fwww.googleapis.com%2fauth%2fdrive%20https%3a%2f%2fwww.googleapis.com%2fauth%2fdrive.photos.readonly%20https%3a%2f%2fwww.googleapis.com%2fauth%2fpeopleapi.readonly\n",
      "\n",
      "Enter your authorization code:\n",
      "··········\n",
      "Mounted at /content/drive\n"
     ]
    }
   ],
   "source": [
    "from google.colab import drive\n",
    "drive.mount('/content/drive')"
   ]
  },
  {
   "cell_type": "code",
   "execution_count": 0,
   "metadata": {
    "colab": {},
    "colab_type": "code",
    "id": "7z6M1mlH0dng"
   },
   "outputs": [],
   "source": [
    "import warnings\n",
    "warnings.filterwarnings(\"ignore\")\n",
    "\n",
    "import numpy as np \n",
    "import pandas as pd \n",
    "import sklearn\n",
    "import matplotlib as mpl\n",
    "import matplotlib.pylab as plt\n",
    "from mpl_toolkits.mplot3d import Axes3D\n",
    "\n",
    "from sklearn.model_selection import GridSearchCV\n",
    "from sklearn.ensemble import RandomForestClassifier\n",
    "\n",
    "from sklearn.neural_network import MLPClassifier\n",
    "from sklearn.metrics import classification_report\n",
    "from sklearn.metrics import confusion_matrix\n",
    "\n",
    "from sklearn.manifold import TSNE\n",
    "from sklearn.cluster import AgglomerativeClustering\n",
    "from sklearn.cluster import KMeans\n",
    "from sklearn.mixture import GaussianMixture"
   ]
  },
  {
   "cell_type": "markdown",
   "metadata": {
    "colab_type": "text",
    "id": "XyCr8BcZ0dnw"
   },
   "source": [
    "### Step 0: Data loading and formatting"
   ]
  },
  {
   "cell_type": "markdown",
   "metadata": {
    "colab_type": "text",
    "id": "9d1oO_CfEfiu"
   },
   "source": [
    "We use pandas to read the data.\n",
    "\n",
    "Firstly, read X_train:"
   ]
  },
  {
   "cell_type": "code",
   "execution_count": 3,
   "metadata": {
    "colab": {
     "base_uri": "https://localhost:8080/",
     "height": 315
    },
    "colab_type": "code",
    "id": "CfrXzhsO0dn0",
    "outputId": "03678c47-e75c-4ee8-d4dc-cd5e87df922b"
   },
   "outputs": [
    {
     "name": "stdout",
     "output_type": "stream",
     "text": [
      "(7352, 561)\n"
     ]
    },
    {
     "data": {
      "text/html": [
       "<div>\n",
       "<style scoped>\n",
       "    .dataframe tbody tr th:only-of-type {\n",
       "        vertical-align: middle;\n",
       "    }\n",
       "\n",
       "    .dataframe tbody tr th {\n",
       "        vertical-align: top;\n",
       "    }\n",
       "\n",
       "    .dataframe thead th {\n",
       "        text-align: right;\n",
       "    }\n",
       "</style>\n",
       "<table border=\"1\" class=\"dataframe\">\n",
       "  <thead>\n",
       "    <tr style=\"text-align: right;\">\n",
       "      <th></th>\n",
       "      <th>1 tBodyAcc-mean()-X</th>\n",
       "      <th>2 tBodyAcc-mean()-Y</th>\n",
       "      <th>3 tBodyAcc-mean()-Z</th>\n",
       "      <th>4 tBodyAcc-std()-X</th>\n",
       "      <th>5 tBodyAcc-std()-Y</th>\n",
       "      <th>6 tBodyAcc-std()-Z</th>\n",
       "      <th>7 tBodyAcc-mad()-X</th>\n",
       "      <th>8 tBodyAcc-mad()-Y</th>\n",
       "      <th>9 tBodyAcc-mad()-Z</th>\n",
       "      <th>10 tBodyAcc-max()-X</th>\n",
       "      <th>11 tBodyAcc-max()-Y</th>\n",
       "      <th>12 tBodyAcc-max()-Z</th>\n",
       "      <th>13 tBodyAcc-min()-X</th>\n",
       "      <th>14 tBodyAcc-min()-Y</th>\n",
       "      <th>15 tBodyAcc-min()-Z</th>\n",
       "      <th>16 tBodyAcc-sma()</th>\n",
       "      <th>17 tBodyAcc-energy()-X</th>\n",
       "      <th>18 tBodyAcc-energy()-Y</th>\n",
       "      <th>19 tBodyAcc-energy()-Z</th>\n",
       "      <th>20 tBodyAcc-iqr()-X</th>\n",
       "      <th>21 tBodyAcc-iqr()-Y</th>\n",
       "      <th>22 tBodyAcc-iqr()-Z</th>\n",
       "      <th>23 tBodyAcc-entropy()-X</th>\n",
       "      <th>24 tBodyAcc-entropy()-Y</th>\n",
       "      <th>25 tBodyAcc-entropy()-Z</th>\n",
       "      <th>26 tBodyAcc-arCoeff()-X,1</th>\n",
       "      <th>27 tBodyAcc-arCoeff()-X,2</th>\n",
       "      <th>28 tBodyAcc-arCoeff()-X,3</th>\n",
       "      <th>29 tBodyAcc-arCoeff()-X,4</th>\n",
       "      <th>30 tBodyAcc-arCoeff()-Y,1</th>\n",
       "      <th>31 tBodyAcc-arCoeff()-Y,2</th>\n",
       "      <th>32 tBodyAcc-arCoeff()-Y,3</th>\n",
       "      <th>33 tBodyAcc-arCoeff()-Y,4</th>\n",
       "      <th>34 tBodyAcc-arCoeff()-Z,1</th>\n",
       "      <th>35 tBodyAcc-arCoeff()-Z,2</th>\n",
       "      <th>36 tBodyAcc-arCoeff()-Z,3</th>\n",
       "      <th>37 tBodyAcc-arCoeff()-Z,4</th>\n",
       "      <th>38 tBodyAcc-correlation()-X,Y</th>\n",
       "      <th>39 tBodyAcc-correlation()-X,Z</th>\n",
       "      <th>40 tBodyAcc-correlation()-Y,Z</th>\n",
       "      <th>...</th>\n",
       "      <th>522 fBodyBodyAccJerkMag-energy()</th>\n",
       "      <th>523 fBodyBodyAccJerkMag-iqr()</th>\n",
       "      <th>524 fBodyBodyAccJerkMag-entropy()</th>\n",
       "      <th>525 fBodyBodyAccJerkMag-maxInds</th>\n",
       "      <th>526 fBodyBodyAccJerkMag-meanFreq()</th>\n",
       "      <th>527 fBodyBodyAccJerkMag-skewness()</th>\n",
       "      <th>528 fBodyBodyAccJerkMag-kurtosis()</th>\n",
       "      <th>529 fBodyBodyGyroMag-mean()</th>\n",
       "      <th>530 fBodyBodyGyroMag-std()</th>\n",
       "      <th>531 fBodyBodyGyroMag-mad()</th>\n",
       "      <th>532 fBodyBodyGyroMag-max()</th>\n",
       "      <th>533 fBodyBodyGyroMag-min()</th>\n",
       "      <th>534 fBodyBodyGyroMag-sma()</th>\n",
       "      <th>535 fBodyBodyGyroMag-energy()</th>\n",
       "      <th>536 fBodyBodyGyroMag-iqr()</th>\n",
       "      <th>537 fBodyBodyGyroMag-entropy()</th>\n",
       "      <th>538 fBodyBodyGyroMag-maxInds</th>\n",
       "      <th>539 fBodyBodyGyroMag-meanFreq()</th>\n",
       "      <th>540 fBodyBodyGyroMag-skewness()</th>\n",
       "      <th>541 fBodyBodyGyroMag-kurtosis()</th>\n",
       "      <th>542 fBodyBodyGyroJerkMag-mean()</th>\n",
       "      <th>543 fBodyBodyGyroJerkMag-std()</th>\n",
       "      <th>544 fBodyBodyGyroJerkMag-mad()</th>\n",
       "      <th>545 fBodyBodyGyroJerkMag-max()</th>\n",
       "      <th>546 fBodyBodyGyroJerkMag-min()</th>\n",
       "      <th>547 fBodyBodyGyroJerkMag-sma()</th>\n",
       "      <th>548 fBodyBodyGyroJerkMag-energy()</th>\n",
       "      <th>549 fBodyBodyGyroJerkMag-iqr()</th>\n",
       "      <th>550 fBodyBodyGyroJerkMag-entropy()</th>\n",
       "      <th>551 fBodyBodyGyroJerkMag-maxInds</th>\n",
       "      <th>552 fBodyBodyGyroJerkMag-meanFreq()</th>\n",
       "      <th>553 fBodyBodyGyroJerkMag-skewness()</th>\n",
       "      <th>554 fBodyBodyGyroJerkMag-kurtosis()</th>\n",
       "      <th>555 angle(tBodyAccMean,gravity)</th>\n",
       "      <th>556 angle(tBodyAccJerkMean),gravityMean)</th>\n",
       "      <th>557 angle(tBodyGyroMean,gravityMean)</th>\n",
       "      <th>558 angle(tBodyGyroJerkMean,gravityMean)</th>\n",
       "      <th>559 angle(X,gravityMean)</th>\n",
       "      <th>560 angle(Y,gravityMean)</th>\n",
       "      <th>561 angle(Z,gravityMean)</th>\n",
       "    </tr>\n",
       "  </thead>\n",
       "  <tbody>\n",
       "    <tr>\n",
       "      <th>0</th>\n",
       "      <td>0.288585</td>\n",
       "      <td>-0.020294</td>\n",
       "      <td>-0.132905</td>\n",
       "      <td>-0.995279</td>\n",
       "      <td>-0.983111</td>\n",
       "      <td>-0.913526</td>\n",
       "      <td>-0.995112</td>\n",
       "      <td>-0.983185</td>\n",
       "      <td>-0.923527</td>\n",
       "      <td>-0.934724</td>\n",
       "      <td>-0.567378</td>\n",
       "      <td>-0.744413</td>\n",
       "      <td>0.852947</td>\n",
       "      <td>0.685845</td>\n",
       "      <td>0.814263</td>\n",
       "      <td>-0.965523</td>\n",
       "      <td>-0.999945</td>\n",
       "      <td>-0.999863</td>\n",
       "      <td>-0.994612</td>\n",
       "      <td>-0.994231</td>\n",
       "      <td>-0.987614</td>\n",
       "      <td>-0.943220</td>\n",
       "      <td>-0.407747</td>\n",
       "      <td>-0.679338</td>\n",
       "      <td>-0.602122</td>\n",
       "      <td>0.929294</td>\n",
       "      <td>-0.853011</td>\n",
       "      <td>0.359910</td>\n",
       "      <td>-0.058526</td>\n",
       "      <td>0.256892</td>\n",
       "      <td>-0.224848</td>\n",
       "      <td>0.264106</td>\n",
       "      <td>-0.095246</td>\n",
       "      <td>0.278851</td>\n",
       "      <td>-0.465085</td>\n",
       "      <td>0.491936</td>\n",
       "      <td>-0.190884</td>\n",
       "      <td>0.376314</td>\n",
       "      <td>0.435129</td>\n",
       "      <td>0.660790</td>\n",
       "      <td>...</td>\n",
       "      <td>-0.999918</td>\n",
       "      <td>-0.991364</td>\n",
       "      <td>-1.0</td>\n",
       "      <td>-0.936508</td>\n",
       "      <td>0.346989</td>\n",
       "      <td>-0.516080</td>\n",
       "      <td>-0.802760</td>\n",
       "      <td>-0.980135</td>\n",
       "      <td>-0.961309</td>\n",
       "      <td>-0.973653</td>\n",
       "      <td>-0.952264</td>\n",
       "      <td>-0.989498</td>\n",
       "      <td>-0.980135</td>\n",
       "      <td>-0.999240</td>\n",
       "      <td>-0.992656</td>\n",
       "      <td>-0.701291</td>\n",
       "      <td>-1.000000</td>\n",
       "      <td>-0.128989</td>\n",
       "      <td>0.586156</td>\n",
       "      <td>0.374605</td>\n",
       "      <td>-0.991990</td>\n",
       "      <td>-0.990697</td>\n",
       "      <td>-0.989941</td>\n",
       "      <td>-0.992448</td>\n",
       "      <td>-0.991048</td>\n",
       "      <td>-0.991990</td>\n",
       "      <td>-0.999937</td>\n",
       "      <td>-0.990458</td>\n",
       "      <td>-0.871306</td>\n",
       "      <td>-1.000000</td>\n",
       "      <td>-0.074323</td>\n",
       "      <td>-0.298676</td>\n",
       "      <td>-0.710304</td>\n",
       "      <td>-0.112754</td>\n",
       "      <td>0.030400</td>\n",
       "      <td>-0.464761</td>\n",
       "      <td>-0.018446</td>\n",
       "      <td>-0.841247</td>\n",
       "      <td>0.179941</td>\n",
       "      <td>-0.058627</td>\n",
       "    </tr>\n",
       "    <tr>\n",
       "      <th>1</th>\n",
       "      <td>0.278419</td>\n",
       "      <td>-0.016411</td>\n",
       "      <td>-0.123520</td>\n",
       "      <td>-0.998245</td>\n",
       "      <td>-0.975300</td>\n",
       "      <td>-0.960322</td>\n",
       "      <td>-0.998807</td>\n",
       "      <td>-0.974914</td>\n",
       "      <td>-0.957686</td>\n",
       "      <td>-0.943068</td>\n",
       "      <td>-0.557851</td>\n",
       "      <td>-0.818409</td>\n",
       "      <td>0.849308</td>\n",
       "      <td>0.685845</td>\n",
       "      <td>0.822637</td>\n",
       "      <td>-0.981930</td>\n",
       "      <td>-0.999991</td>\n",
       "      <td>-0.999788</td>\n",
       "      <td>-0.998405</td>\n",
       "      <td>-0.999150</td>\n",
       "      <td>-0.977866</td>\n",
       "      <td>-0.948225</td>\n",
       "      <td>-0.714892</td>\n",
       "      <td>-0.500930</td>\n",
       "      <td>-0.570979</td>\n",
       "      <td>0.611627</td>\n",
       "      <td>-0.329549</td>\n",
       "      <td>0.284213</td>\n",
       "      <td>0.284595</td>\n",
       "      <td>0.115705</td>\n",
       "      <td>-0.090963</td>\n",
       "      <td>0.294310</td>\n",
       "      <td>-0.281211</td>\n",
       "      <td>0.085988</td>\n",
       "      <td>-0.022153</td>\n",
       "      <td>-0.016657</td>\n",
       "      <td>-0.220643</td>\n",
       "      <td>-0.013429</td>\n",
       "      <td>-0.072692</td>\n",
       "      <td>0.579382</td>\n",
       "      <td>...</td>\n",
       "      <td>-0.999867</td>\n",
       "      <td>-0.991134</td>\n",
       "      <td>-1.0</td>\n",
       "      <td>-0.841270</td>\n",
       "      <td>0.532061</td>\n",
       "      <td>-0.624871</td>\n",
       "      <td>-0.900160</td>\n",
       "      <td>-0.988296</td>\n",
       "      <td>-0.983322</td>\n",
       "      <td>-0.982659</td>\n",
       "      <td>-0.986321</td>\n",
       "      <td>-0.991829</td>\n",
       "      <td>-0.988296</td>\n",
       "      <td>-0.999811</td>\n",
       "      <td>-0.993979</td>\n",
       "      <td>-0.720683</td>\n",
       "      <td>-0.948718</td>\n",
       "      <td>-0.271958</td>\n",
       "      <td>-0.336310</td>\n",
       "      <td>-0.720015</td>\n",
       "      <td>-0.995854</td>\n",
       "      <td>-0.996399</td>\n",
       "      <td>-0.995442</td>\n",
       "      <td>-0.996866</td>\n",
       "      <td>-0.994440</td>\n",
       "      <td>-0.995854</td>\n",
       "      <td>-0.999981</td>\n",
       "      <td>-0.994544</td>\n",
       "      <td>-1.000000</td>\n",
       "      <td>-1.000000</td>\n",
       "      <td>0.158075</td>\n",
       "      <td>-0.595051</td>\n",
       "      <td>-0.861499</td>\n",
       "      <td>0.053477</td>\n",
       "      <td>-0.007435</td>\n",
       "      <td>-0.732626</td>\n",
       "      <td>0.703511</td>\n",
       "      <td>-0.844788</td>\n",
       "      <td>0.180289</td>\n",
       "      <td>-0.054317</td>\n",
       "    </tr>\n",
       "    <tr>\n",
       "      <th>2</th>\n",
       "      <td>0.279653</td>\n",
       "      <td>-0.019467</td>\n",
       "      <td>-0.113462</td>\n",
       "      <td>-0.995380</td>\n",
       "      <td>-0.967187</td>\n",
       "      <td>-0.978944</td>\n",
       "      <td>-0.996520</td>\n",
       "      <td>-0.963668</td>\n",
       "      <td>-0.977469</td>\n",
       "      <td>-0.938692</td>\n",
       "      <td>-0.557851</td>\n",
       "      <td>-0.818409</td>\n",
       "      <td>0.843609</td>\n",
       "      <td>0.682401</td>\n",
       "      <td>0.839344</td>\n",
       "      <td>-0.983478</td>\n",
       "      <td>-0.999969</td>\n",
       "      <td>-0.999660</td>\n",
       "      <td>-0.999470</td>\n",
       "      <td>-0.997130</td>\n",
       "      <td>-0.964810</td>\n",
       "      <td>-0.974675</td>\n",
       "      <td>-0.592235</td>\n",
       "      <td>-0.485821</td>\n",
       "      <td>-0.570979</td>\n",
       "      <td>0.273025</td>\n",
       "      <td>-0.086309</td>\n",
       "      <td>0.337202</td>\n",
       "      <td>-0.164739</td>\n",
       "      <td>0.017150</td>\n",
       "      <td>-0.074507</td>\n",
       "      <td>0.342256</td>\n",
       "      <td>-0.332564</td>\n",
       "      <td>0.239281</td>\n",
       "      <td>-0.136204</td>\n",
       "      <td>0.173863</td>\n",
       "      <td>-0.299493</td>\n",
       "      <td>-0.124698</td>\n",
       "      <td>-0.181105</td>\n",
       "      <td>0.608900</td>\n",
       "      <td>...</td>\n",
       "      <td>-0.999845</td>\n",
       "      <td>-0.986658</td>\n",
       "      <td>-1.0</td>\n",
       "      <td>-0.904762</td>\n",
       "      <td>0.660795</td>\n",
       "      <td>-0.724697</td>\n",
       "      <td>-0.928539</td>\n",
       "      <td>-0.989255</td>\n",
       "      <td>-0.986028</td>\n",
       "      <td>-0.984274</td>\n",
       "      <td>-0.990979</td>\n",
       "      <td>-0.995703</td>\n",
       "      <td>-0.989255</td>\n",
       "      <td>-0.999854</td>\n",
       "      <td>-0.993238</td>\n",
       "      <td>-0.736521</td>\n",
       "      <td>-0.794872</td>\n",
       "      <td>-0.212728</td>\n",
       "      <td>-0.535352</td>\n",
       "      <td>-0.871914</td>\n",
       "      <td>-0.995031</td>\n",
       "      <td>-0.995127</td>\n",
       "      <td>-0.994640</td>\n",
       "      <td>-0.996060</td>\n",
       "      <td>-0.995866</td>\n",
       "      <td>-0.995031</td>\n",
       "      <td>-0.999973</td>\n",
       "      <td>-0.993755</td>\n",
       "      <td>-1.000000</td>\n",
       "      <td>-0.555556</td>\n",
       "      <td>0.414503</td>\n",
       "      <td>-0.390748</td>\n",
       "      <td>-0.760104</td>\n",
       "      <td>-0.118559</td>\n",
       "      <td>0.177899</td>\n",
       "      <td>0.100699</td>\n",
       "      <td>0.808529</td>\n",
       "      <td>-0.848933</td>\n",
       "      <td>0.180637</td>\n",
       "      <td>-0.049118</td>\n",
       "    </tr>\n",
       "    <tr>\n",
       "      <th>3</th>\n",
       "      <td>0.279174</td>\n",
       "      <td>-0.026201</td>\n",
       "      <td>-0.123283</td>\n",
       "      <td>-0.996091</td>\n",
       "      <td>-0.983403</td>\n",
       "      <td>-0.990675</td>\n",
       "      <td>-0.997099</td>\n",
       "      <td>-0.982750</td>\n",
       "      <td>-0.989302</td>\n",
       "      <td>-0.938692</td>\n",
       "      <td>-0.576159</td>\n",
       "      <td>-0.829711</td>\n",
       "      <td>0.843609</td>\n",
       "      <td>0.682401</td>\n",
       "      <td>0.837869</td>\n",
       "      <td>-0.986093</td>\n",
       "      <td>-0.999976</td>\n",
       "      <td>-0.999736</td>\n",
       "      <td>-0.999504</td>\n",
       "      <td>-0.997180</td>\n",
       "      <td>-0.983799</td>\n",
       "      <td>-0.986007</td>\n",
       "      <td>-0.627446</td>\n",
       "      <td>-0.850930</td>\n",
       "      <td>-0.911872</td>\n",
       "      <td>0.061436</td>\n",
       "      <td>0.074840</td>\n",
       "      <td>0.198204</td>\n",
       "      <td>-0.264307</td>\n",
       "      <td>0.072545</td>\n",
       "      <td>-0.155320</td>\n",
       "      <td>0.323154</td>\n",
       "      <td>-0.170813</td>\n",
       "      <td>0.294938</td>\n",
       "      <td>-0.306081</td>\n",
       "      <td>0.482148</td>\n",
       "      <td>-0.470129</td>\n",
       "      <td>-0.305693</td>\n",
       "      <td>-0.362654</td>\n",
       "      <td>0.507459</td>\n",
       "      <td>...</td>\n",
       "      <td>-0.999895</td>\n",
       "      <td>-0.988055</td>\n",
       "      <td>-1.0</td>\n",
       "      <td>1.000000</td>\n",
       "      <td>0.678921</td>\n",
       "      <td>-0.701131</td>\n",
       "      <td>-0.909639</td>\n",
       "      <td>-0.989413</td>\n",
       "      <td>-0.987836</td>\n",
       "      <td>-0.986850</td>\n",
       "      <td>-0.986749</td>\n",
       "      <td>-0.996199</td>\n",
       "      <td>-0.989413</td>\n",
       "      <td>-0.999876</td>\n",
       "      <td>-0.989136</td>\n",
       "      <td>-0.720891</td>\n",
       "      <td>-1.000000</td>\n",
       "      <td>-0.035684</td>\n",
       "      <td>-0.230091</td>\n",
       "      <td>-0.511217</td>\n",
       "      <td>-0.995221</td>\n",
       "      <td>-0.995237</td>\n",
       "      <td>-0.995722</td>\n",
       "      <td>-0.995273</td>\n",
       "      <td>-0.995732</td>\n",
       "      <td>-0.995221</td>\n",
       "      <td>-0.999974</td>\n",
       "      <td>-0.995226</td>\n",
       "      <td>-0.955696</td>\n",
       "      <td>-0.936508</td>\n",
       "      <td>0.404573</td>\n",
       "      <td>-0.117290</td>\n",
       "      <td>-0.482845</td>\n",
       "      <td>-0.036788</td>\n",
       "      <td>-0.012892</td>\n",
       "      <td>0.640011</td>\n",
       "      <td>-0.485366</td>\n",
       "      <td>-0.848649</td>\n",
       "      <td>0.181935</td>\n",
       "      <td>-0.047663</td>\n",
       "    </tr>\n",
       "    <tr>\n",
       "      <th>4</th>\n",
       "      <td>0.276629</td>\n",
       "      <td>-0.016570</td>\n",
       "      <td>-0.115362</td>\n",
       "      <td>-0.998139</td>\n",
       "      <td>-0.980817</td>\n",
       "      <td>-0.990482</td>\n",
       "      <td>-0.998321</td>\n",
       "      <td>-0.979672</td>\n",
       "      <td>-0.990441</td>\n",
       "      <td>-0.942469</td>\n",
       "      <td>-0.569174</td>\n",
       "      <td>-0.824705</td>\n",
       "      <td>0.849095</td>\n",
       "      <td>0.683250</td>\n",
       "      <td>0.837869</td>\n",
       "      <td>-0.992653</td>\n",
       "      <td>-0.999991</td>\n",
       "      <td>-0.999856</td>\n",
       "      <td>-0.999757</td>\n",
       "      <td>-0.998004</td>\n",
       "      <td>-0.981232</td>\n",
       "      <td>-0.991325</td>\n",
       "      <td>-0.786553</td>\n",
       "      <td>-0.559477</td>\n",
       "      <td>-0.761434</td>\n",
       "      <td>0.313276</td>\n",
       "      <td>-0.131208</td>\n",
       "      <td>0.191161</td>\n",
       "      <td>0.086904</td>\n",
       "      <td>0.257615</td>\n",
       "      <td>-0.272505</td>\n",
       "      <td>0.434728</td>\n",
       "      <td>-0.315375</td>\n",
       "      <td>0.439744</td>\n",
       "      <td>-0.269069</td>\n",
       "      <td>0.179414</td>\n",
       "      <td>-0.088952</td>\n",
       "      <td>-0.155804</td>\n",
       "      <td>-0.189763</td>\n",
       "      <td>0.599213</td>\n",
       "      <td>...</td>\n",
       "      <td>-0.999941</td>\n",
       "      <td>-0.994169</td>\n",
       "      <td>-1.0</td>\n",
       "      <td>-1.000000</td>\n",
       "      <td>0.559058</td>\n",
       "      <td>-0.528901</td>\n",
       "      <td>-0.858933</td>\n",
       "      <td>-0.991433</td>\n",
       "      <td>-0.989059</td>\n",
       "      <td>-0.987744</td>\n",
       "      <td>-0.991462</td>\n",
       "      <td>-0.998353</td>\n",
       "      <td>-0.991433</td>\n",
       "      <td>-0.999902</td>\n",
       "      <td>-0.989321</td>\n",
       "      <td>-0.763372</td>\n",
       "      <td>-0.897436</td>\n",
       "      <td>-0.273582</td>\n",
       "      <td>-0.510282</td>\n",
       "      <td>-0.830702</td>\n",
       "      <td>-0.995093</td>\n",
       "      <td>-0.995465</td>\n",
       "      <td>-0.995279</td>\n",
       "      <td>-0.995609</td>\n",
       "      <td>-0.997418</td>\n",
       "      <td>-0.995093</td>\n",
       "      <td>-0.999974</td>\n",
       "      <td>-0.995487</td>\n",
       "      <td>-1.000000</td>\n",
       "      <td>-0.936508</td>\n",
       "      <td>0.087753</td>\n",
       "      <td>-0.351471</td>\n",
       "      <td>-0.699205</td>\n",
       "      <td>0.123320</td>\n",
       "      <td>0.122542</td>\n",
       "      <td>0.693578</td>\n",
       "      <td>-0.615971</td>\n",
       "      <td>-0.847865</td>\n",
       "      <td>0.185151</td>\n",
       "      <td>-0.043892</td>\n",
       "    </tr>\n",
       "  </tbody>\n",
       "</table>\n",
       "<p>5 rows × 561 columns</p>\n",
       "</div>"
      ],
      "text/plain": [
       "   1 tBodyAcc-mean()-X  ...  561 angle(Z,gravityMean)\n",
       "0             0.288585  ...                 -0.058627\n",
       "1             0.278419  ...                 -0.054317\n",
       "2             0.279653  ...                 -0.049118\n",
       "3             0.279174  ...                 -0.047663\n",
       "4             0.276629  ...                 -0.043892\n",
       "\n",
       "[5 rows x 561 columns]"
      ]
     },
     "execution_count": 3,
     "metadata": {
      "tags": []
     },
     "output_type": "execute_result"
    }
   ],
   "source": [
    "google_drive = 'drive/My Drive/UCI_HAR/'\n",
    "features = pd.read_csv(google_drive+'features.txt', sep='\\n', header=None).values.reshape(-1)\n",
    "X_train = pd.read_csv(google_drive+'train/X_train.txt', sep='\\s+', names=features, index_col=False)\n",
    "print(X_train.shape)\n",
    "X_train.head()"
   ]
  },
  {
   "cell_type": "markdown",
   "metadata": {
    "colab_type": "text",
    "id": "WpC-XjSVEfiy"
   },
   "source": [
    "Then read y_train:"
   ]
  },
  {
   "cell_type": "code",
   "execution_count": 4,
   "metadata": {
    "colab": {
     "base_uri": "https://localhost:8080/",
     "height": 217
    },
    "colab_type": "code",
    "id": "uEmmgAze0dn-",
    "outputId": "a2f1721d-86d2-4e34-ccf1-11896f9dcdbe"
   },
   "outputs": [
    {
     "name": "stdout",
     "output_type": "stream",
     "text": [
      "(7352, 1)\n"
     ]
    },
    {
     "data": {
      "text/html": [
       "<div>\n",
       "<style scoped>\n",
       "    .dataframe tbody tr th:only-of-type {\n",
       "        vertical-align: middle;\n",
       "    }\n",
       "\n",
       "    .dataframe tbody tr th {\n",
       "        vertical-align: top;\n",
       "    }\n",
       "\n",
       "    .dataframe thead th {\n",
       "        text-align: right;\n",
       "    }\n",
       "</style>\n",
       "<table border=\"1\" class=\"dataframe\">\n",
       "  <thead>\n",
       "    <tr style=\"text-align: right;\">\n",
       "      <th></th>\n",
       "      <th>Activity No.</th>\n",
       "    </tr>\n",
       "  </thead>\n",
       "  <tbody>\n",
       "    <tr>\n",
       "      <th>0</th>\n",
       "      <td>5</td>\n",
       "    </tr>\n",
       "    <tr>\n",
       "      <th>1</th>\n",
       "      <td>5</td>\n",
       "    </tr>\n",
       "    <tr>\n",
       "      <th>2</th>\n",
       "      <td>5</td>\n",
       "    </tr>\n",
       "    <tr>\n",
       "      <th>3</th>\n",
       "      <td>5</td>\n",
       "    </tr>\n",
       "    <tr>\n",
       "      <th>4</th>\n",
       "      <td>5</td>\n",
       "    </tr>\n",
       "  </tbody>\n",
       "</table>\n",
       "</div>"
      ],
      "text/plain": [
       "   Activity No.\n",
       "0             5\n",
       "1             5\n",
       "2             5\n",
       "3             5\n",
       "4             5"
      ]
     },
     "execution_count": 4,
     "metadata": {
      "tags": []
     },
     "output_type": "execute_result"
    }
   ],
   "source": [
    "y_train = pd.read_csv(google_drive+'train/y_train.txt', sep='\\n', header=None, names=['Activity No.'])\n",
    "print(y_train.shape)\n",
    "y_train.head()"
   ]
  },
  {
   "cell_type": "markdown",
   "metadata": {
    "colab_type": "text",
    "id": "s-lkOfNrEfi1"
   },
   "source": [
    "Read X_test:"
   ]
  },
  {
   "cell_type": "code",
   "execution_count": 5,
   "metadata": {
    "colab": {
     "base_uri": "https://localhost:8080/",
     "height": 315
    },
    "colab_type": "code",
    "id": "I-lzWlz3J4EZ",
    "outputId": "ff5f7de1-214d-4307-a8eb-7d111d1bd7ed"
   },
   "outputs": [
    {
     "name": "stdout",
     "output_type": "stream",
     "text": [
      "(2947, 561)\n"
     ]
    },
    {
     "data": {
      "text/html": [
       "<div>\n",
       "<style scoped>\n",
       "    .dataframe tbody tr th:only-of-type {\n",
       "        vertical-align: middle;\n",
       "    }\n",
       "\n",
       "    .dataframe tbody tr th {\n",
       "        vertical-align: top;\n",
       "    }\n",
       "\n",
       "    .dataframe thead th {\n",
       "        text-align: right;\n",
       "    }\n",
       "</style>\n",
       "<table border=\"1\" class=\"dataframe\">\n",
       "  <thead>\n",
       "    <tr style=\"text-align: right;\">\n",
       "      <th></th>\n",
       "      <th>1 tBodyAcc-mean()-X</th>\n",
       "      <th>2 tBodyAcc-mean()-Y</th>\n",
       "      <th>3 tBodyAcc-mean()-Z</th>\n",
       "      <th>4 tBodyAcc-std()-X</th>\n",
       "      <th>5 tBodyAcc-std()-Y</th>\n",
       "      <th>6 tBodyAcc-std()-Z</th>\n",
       "      <th>7 tBodyAcc-mad()-X</th>\n",
       "      <th>8 tBodyAcc-mad()-Y</th>\n",
       "      <th>9 tBodyAcc-mad()-Z</th>\n",
       "      <th>10 tBodyAcc-max()-X</th>\n",
       "      <th>11 tBodyAcc-max()-Y</th>\n",
       "      <th>12 tBodyAcc-max()-Z</th>\n",
       "      <th>13 tBodyAcc-min()-X</th>\n",
       "      <th>14 tBodyAcc-min()-Y</th>\n",
       "      <th>15 tBodyAcc-min()-Z</th>\n",
       "      <th>16 tBodyAcc-sma()</th>\n",
       "      <th>17 tBodyAcc-energy()-X</th>\n",
       "      <th>18 tBodyAcc-energy()-Y</th>\n",
       "      <th>19 tBodyAcc-energy()-Z</th>\n",
       "      <th>20 tBodyAcc-iqr()-X</th>\n",
       "      <th>21 tBodyAcc-iqr()-Y</th>\n",
       "      <th>22 tBodyAcc-iqr()-Z</th>\n",
       "      <th>23 tBodyAcc-entropy()-X</th>\n",
       "      <th>24 tBodyAcc-entropy()-Y</th>\n",
       "      <th>25 tBodyAcc-entropy()-Z</th>\n",
       "      <th>26 tBodyAcc-arCoeff()-X,1</th>\n",
       "      <th>27 tBodyAcc-arCoeff()-X,2</th>\n",
       "      <th>28 tBodyAcc-arCoeff()-X,3</th>\n",
       "      <th>29 tBodyAcc-arCoeff()-X,4</th>\n",
       "      <th>30 tBodyAcc-arCoeff()-Y,1</th>\n",
       "      <th>31 tBodyAcc-arCoeff()-Y,2</th>\n",
       "      <th>32 tBodyAcc-arCoeff()-Y,3</th>\n",
       "      <th>33 tBodyAcc-arCoeff()-Y,4</th>\n",
       "      <th>34 tBodyAcc-arCoeff()-Z,1</th>\n",
       "      <th>35 tBodyAcc-arCoeff()-Z,2</th>\n",
       "      <th>36 tBodyAcc-arCoeff()-Z,3</th>\n",
       "      <th>37 tBodyAcc-arCoeff()-Z,4</th>\n",
       "      <th>38 tBodyAcc-correlation()-X,Y</th>\n",
       "      <th>39 tBodyAcc-correlation()-X,Z</th>\n",
       "      <th>40 tBodyAcc-correlation()-Y,Z</th>\n",
       "      <th>...</th>\n",
       "      <th>522 fBodyBodyAccJerkMag-energy()</th>\n",
       "      <th>523 fBodyBodyAccJerkMag-iqr()</th>\n",
       "      <th>524 fBodyBodyAccJerkMag-entropy()</th>\n",
       "      <th>525 fBodyBodyAccJerkMag-maxInds</th>\n",
       "      <th>526 fBodyBodyAccJerkMag-meanFreq()</th>\n",
       "      <th>527 fBodyBodyAccJerkMag-skewness()</th>\n",
       "      <th>528 fBodyBodyAccJerkMag-kurtosis()</th>\n",
       "      <th>529 fBodyBodyGyroMag-mean()</th>\n",
       "      <th>530 fBodyBodyGyroMag-std()</th>\n",
       "      <th>531 fBodyBodyGyroMag-mad()</th>\n",
       "      <th>532 fBodyBodyGyroMag-max()</th>\n",
       "      <th>533 fBodyBodyGyroMag-min()</th>\n",
       "      <th>534 fBodyBodyGyroMag-sma()</th>\n",
       "      <th>535 fBodyBodyGyroMag-energy()</th>\n",
       "      <th>536 fBodyBodyGyroMag-iqr()</th>\n",
       "      <th>537 fBodyBodyGyroMag-entropy()</th>\n",
       "      <th>538 fBodyBodyGyroMag-maxInds</th>\n",
       "      <th>539 fBodyBodyGyroMag-meanFreq()</th>\n",
       "      <th>540 fBodyBodyGyroMag-skewness()</th>\n",
       "      <th>541 fBodyBodyGyroMag-kurtosis()</th>\n",
       "      <th>542 fBodyBodyGyroJerkMag-mean()</th>\n",
       "      <th>543 fBodyBodyGyroJerkMag-std()</th>\n",
       "      <th>544 fBodyBodyGyroJerkMag-mad()</th>\n",
       "      <th>545 fBodyBodyGyroJerkMag-max()</th>\n",
       "      <th>546 fBodyBodyGyroJerkMag-min()</th>\n",
       "      <th>547 fBodyBodyGyroJerkMag-sma()</th>\n",
       "      <th>548 fBodyBodyGyroJerkMag-energy()</th>\n",
       "      <th>549 fBodyBodyGyroJerkMag-iqr()</th>\n",
       "      <th>550 fBodyBodyGyroJerkMag-entropy()</th>\n",
       "      <th>551 fBodyBodyGyroJerkMag-maxInds</th>\n",
       "      <th>552 fBodyBodyGyroJerkMag-meanFreq()</th>\n",
       "      <th>553 fBodyBodyGyroJerkMag-skewness()</th>\n",
       "      <th>554 fBodyBodyGyroJerkMag-kurtosis()</th>\n",
       "      <th>555 angle(tBodyAccMean,gravity)</th>\n",
       "      <th>556 angle(tBodyAccJerkMean),gravityMean)</th>\n",
       "      <th>557 angle(tBodyGyroMean,gravityMean)</th>\n",
       "      <th>558 angle(tBodyGyroJerkMean,gravityMean)</th>\n",
       "      <th>559 angle(X,gravityMean)</th>\n",
       "      <th>560 angle(Y,gravityMean)</th>\n",
       "      <th>561 angle(Z,gravityMean)</th>\n",
       "    </tr>\n",
       "  </thead>\n",
       "  <tbody>\n",
       "    <tr>\n",
       "      <th>0</th>\n",
       "      <td>0.257178</td>\n",
       "      <td>-0.023285</td>\n",
       "      <td>-0.014654</td>\n",
       "      <td>-0.938404</td>\n",
       "      <td>-0.920091</td>\n",
       "      <td>-0.667683</td>\n",
       "      <td>-0.952501</td>\n",
       "      <td>-0.925249</td>\n",
       "      <td>-0.674302</td>\n",
       "      <td>-0.894088</td>\n",
       "      <td>-0.554577</td>\n",
       "      <td>-0.466223</td>\n",
       "      <td>0.717208</td>\n",
       "      <td>0.635502</td>\n",
       "      <td>0.789497</td>\n",
       "      <td>-0.877764</td>\n",
       "      <td>-0.997766</td>\n",
       "      <td>-0.998414</td>\n",
       "      <td>-0.934345</td>\n",
       "      <td>-0.975669</td>\n",
       "      <td>-0.949824</td>\n",
       "      <td>-0.830478</td>\n",
       "      <td>-0.168084</td>\n",
       "      <td>-0.378996</td>\n",
       "      <td>0.246217</td>\n",
       "      <td>0.521204</td>\n",
       "      <td>-0.487793</td>\n",
       "      <td>0.482280</td>\n",
       "      <td>-0.045462</td>\n",
       "      <td>0.211955</td>\n",
       "      <td>-0.134894</td>\n",
       "      <td>0.130858</td>\n",
       "      <td>-0.014176</td>\n",
       "      <td>-0.105971</td>\n",
       "      <td>0.073544</td>\n",
       "      <td>-0.171516</td>\n",
       "      <td>0.040063</td>\n",
       "      <td>0.076989</td>\n",
       "      <td>-0.490546</td>\n",
       "      <td>-0.709003</td>\n",
       "      <td>...</td>\n",
       "      <td>-0.993471</td>\n",
       "      <td>-0.921477</td>\n",
       "      <td>-0.484619</td>\n",
       "      <td>-1.000000</td>\n",
       "      <td>-0.035356</td>\n",
       "      <td>-0.254248</td>\n",
       "      <td>-0.700326</td>\n",
       "      <td>-0.770610</td>\n",
       "      <td>-0.797113</td>\n",
       "      <td>-0.764485</td>\n",
       "      <td>-0.820188</td>\n",
       "      <td>-0.937959</td>\n",
       "      <td>-0.770610</td>\n",
       "      <td>-0.970958</td>\n",
       "      <td>-0.798387</td>\n",
       "      <td>0.179435</td>\n",
       "      <td>-1.000000</td>\n",
       "      <td>-0.047391</td>\n",
       "      <td>-0.467849</td>\n",
       "      <td>-0.761326</td>\n",
       "      <td>-0.890165</td>\n",
       "      <td>-0.907308</td>\n",
       "      <td>-0.895301</td>\n",
       "      <td>-0.917883</td>\n",
       "      <td>-0.909829</td>\n",
       "      <td>-0.890165</td>\n",
       "      <td>-0.994105</td>\n",
       "      <td>-0.898022</td>\n",
       "      <td>-0.234815</td>\n",
       "      <td>-1.000000</td>\n",
       "      <td>0.071645</td>\n",
       "      <td>-0.330370</td>\n",
       "      <td>-0.705974</td>\n",
       "      <td>0.006462</td>\n",
       "      <td>0.162920</td>\n",
       "      <td>-0.825886</td>\n",
       "      <td>0.271151</td>\n",
       "      <td>-0.720009</td>\n",
       "      <td>0.276801</td>\n",
       "      <td>-0.057978</td>\n",
       "    </tr>\n",
       "    <tr>\n",
       "      <th>1</th>\n",
       "      <td>0.286027</td>\n",
       "      <td>-0.013163</td>\n",
       "      <td>-0.119083</td>\n",
       "      <td>-0.975415</td>\n",
       "      <td>-0.967458</td>\n",
       "      <td>-0.944958</td>\n",
       "      <td>-0.986799</td>\n",
       "      <td>-0.968401</td>\n",
       "      <td>-0.945823</td>\n",
       "      <td>-0.894088</td>\n",
       "      <td>-0.554577</td>\n",
       "      <td>-0.806013</td>\n",
       "      <td>0.768031</td>\n",
       "      <td>0.683698</td>\n",
       "      <td>0.796706</td>\n",
       "      <td>-0.969097</td>\n",
       "      <td>-0.999580</td>\n",
       "      <td>-0.999646</td>\n",
       "      <td>-0.997720</td>\n",
       "      <td>-0.994006</td>\n",
       "      <td>-0.973637</td>\n",
       "      <td>-0.950720</td>\n",
       "      <td>-0.302437</td>\n",
       "      <td>-0.348243</td>\n",
       "      <td>-0.404785</td>\n",
       "      <td>0.507492</td>\n",
       "      <td>-0.156495</td>\n",
       "      <td>0.040674</td>\n",
       "      <td>0.272991</td>\n",
       "      <td>0.197566</td>\n",
       "      <td>-0.194556</td>\n",
       "      <td>0.411411</td>\n",
       "      <td>-0.340466</td>\n",
       "      <td>0.077555</td>\n",
       "      <td>-0.084024</td>\n",
       "      <td>0.035305</td>\n",
       "      <td>-0.010083</td>\n",
       "      <td>-0.104983</td>\n",
       "      <td>-0.429134</td>\n",
       "      <td>0.399177</td>\n",
       "      <td>...</td>\n",
       "      <td>-0.997610</td>\n",
       "      <td>-0.957178</td>\n",
       "      <td>-0.723642</td>\n",
       "      <td>-1.000000</td>\n",
       "      <td>-0.491213</td>\n",
       "      <td>-0.215404</td>\n",
       "      <td>-0.666004</td>\n",
       "      <td>-0.924461</td>\n",
       "      <td>-0.916774</td>\n",
       "      <td>-0.919383</td>\n",
       "      <td>-0.917983</td>\n",
       "      <td>-0.991121</td>\n",
       "      <td>-0.924461</td>\n",
       "      <td>-0.995727</td>\n",
       "      <td>-0.933127</td>\n",
       "      <td>-0.218860</td>\n",
       "      <td>-1.000000</td>\n",
       "      <td>-0.031474</td>\n",
       "      <td>-0.090655</td>\n",
       "      <td>-0.461801</td>\n",
       "      <td>-0.951977</td>\n",
       "      <td>-0.938212</td>\n",
       "      <td>-0.938008</td>\n",
       "      <td>-0.949922</td>\n",
       "      <td>-0.986902</td>\n",
       "      <td>-0.951977</td>\n",
       "      <td>-0.998272</td>\n",
       "      <td>-0.951255</td>\n",
       "      <td>-0.431053</td>\n",
       "      <td>-1.000000</td>\n",
       "      <td>-0.401189</td>\n",
       "      <td>-0.121845</td>\n",
       "      <td>-0.594944</td>\n",
       "      <td>-0.083495</td>\n",
       "      <td>0.017500</td>\n",
       "      <td>-0.434375</td>\n",
       "      <td>0.920593</td>\n",
       "      <td>-0.698091</td>\n",
       "      <td>0.281343</td>\n",
       "      <td>-0.083898</td>\n",
       "    </tr>\n",
       "    <tr>\n",
       "      <th>2</th>\n",
       "      <td>0.275485</td>\n",
       "      <td>-0.026050</td>\n",
       "      <td>-0.118152</td>\n",
       "      <td>-0.993819</td>\n",
       "      <td>-0.969926</td>\n",
       "      <td>-0.962748</td>\n",
       "      <td>-0.994403</td>\n",
       "      <td>-0.970735</td>\n",
       "      <td>-0.963483</td>\n",
       "      <td>-0.939260</td>\n",
       "      <td>-0.568512</td>\n",
       "      <td>-0.799116</td>\n",
       "      <td>0.848305</td>\n",
       "      <td>0.667864</td>\n",
       "      <td>0.822442</td>\n",
       "      <td>-0.976782</td>\n",
       "      <td>-0.999954</td>\n",
       "      <td>-0.999570</td>\n",
       "      <td>-0.998720</td>\n",
       "      <td>-0.993456</td>\n",
       "      <td>-0.974266</td>\n",
       "      <td>-0.964976</td>\n",
       "      <td>-0.617916</td>\n",
       "      <td>-0.695490</td>\n",
       "      <td>-0.536693</td>\n",
       "      <td>0.242147</td>\n",
       "      <td>-0.114997</td>\n",
       "      <td>0.032703</td>\n",
       "      <td>0.192385</td>\n",
       "      <td>-0.011945</td>\n",
       "      <td>-0.063363</td>\n",
       "      <td>0.470819</td>\n",
       "      <td>-0.507395</td>\n",
       "      <td>0.188536</td>\n",
       "      <td>-0.231575</td>\n",
       "      <td>0.632120</td>\n",
       "      <td>-0.550708</td>\n",
       "      <td>0.305653</td>\n",
       "      <td>-0.323848</td>\n",
       "      <td>0.279786</td>\n",
       "      <td>...</td>\n",
       "      <td>-0.999269</td>\n",
       "      <td>-0.978222</td>\n",
       "      <td>-0.898000</td>\n",
       "      <td>-1.000000</td>\n",
       "      <td>0.140729</td>\n",
       "      <td>-0.206062</td>\n",
       "      <td>-0.639809</td>\n",
       "      <td>-0.975209</td>\n",
       "      <td>-0.973998</td>\n",
       "      <td>-0.967097</td>\n",
       "      <td>-0.982849</td>\n",
       "      <td>-0.997663</td>\n",
       "      <td>-0.975209</td>\n",
       "      <td>-0.999504</td>\n",
       "      <td>-0.968260</td>\n",
       "      <td>-0.561266</td>\n",
       "      <td>-0.897436</td>\n",
       "      <td>-0.168805</td>\n",
       "      <td>-0.662317</td>\n",
       "      <td>-0.925364</td>\n",
       "      <td>-0.985689</td>\n",
       "      <td>-0.983273</td>\n",
       "      <td>-0.983422</td>\n",
       "      <td>-0.986857</td>\n",
       "      <td>-0.989609</td>\n",
       "      <td>-0.985689</td>\n",
       "      <td>-0.999831</td>\n",
       "      <td>-0.986148</td>\n",
       "      <td>-0.809976</td>\n",
       "      <td>-0.936508</td>\n",
       "      <td>0.062891</td>\n",
       "      <td>-0.190422</td>\n",
       "      <td>-0.640736</td>\n",
       "      <td>-0.034956</td>\n",
       "      <td>0.202302</td>\n",
       "      <td>0.064103</td>\n",
       "      <td>0.145068</td>\n",
       "      <td>-0.702771</td>\n",
       "      <td>0.280083</td>\n",
       "      <td>-0.079346</td>\n",
       "    </tr>\n",
       "    <tr>\n",
       "      <th>3</th>\n",
       "      <td>0.270298</td>\n",
       "      <td>-0.032614</td>\n",
       "      <td>-0.117520</td>\n",
       "      <td>-0.994743</td>\n",
       "      <td>-0.973268</td>\n",
       "      <td>-0.967091</td>\n",
       "      <td>-0.995274</td>\n",
       "      <td>-0.974471</td>\n",
       "      <td>-0.968897</td>\n",
       "      <td>-0.938610</td>\n",
       "      <td>-0.568512</td>\n",
       "      <td>-0.799116</td>\n",
       "      <td>0.848305</td>\n",
       "      <td>0.667864</td>\n",
       "      <td>0.822442</td>\n",
       "      <td>-0.974418</td>\n",
       "      <td>-0.999953</td>\n",
       "      <td>-0.999330</td>\n",
       "      <td>-0.998933</td>\n",
       "      <td>-0.995236</td>\n",
       "      <td>-0.978739</td>\n",
       "      <td>-0.969982</td>\n",
       "      <td>-0.749578</td>\n",
       "      <td>-0.899226</td>\n",
       "      <td>-0.553813</td>\n",
       "      <td>0.174684</td>\n",
       "      <td>-0.051332</td>\n",
       "      <td>0.034200</td>\n",
       "      <td>0.153639</td>\n",
       "      <td>0.030767</td>\n",
       "      <td>-0.129277</td>\n",
       "      <td>0.446100</td>\n",
       "      <td>-0.419496</td>\n",
       "      <td>0.271493</td>\n",
       "      <td>-0.225769</td>\n",
       "      <td>0.416376</td>\n",
       "      <td>-0.286445</td>\n",
       "      <td>-0.063792</td>\n",
       "      <td>-0.167111</td>\n",
       "      <td>0.544916</td>\n",
       "      <td>...</td>\n",
       "      <td>-0.999400</td>\n",
       "      <td>-0.980365</td>\n",
       "      <td>-1.000000</td>\n",
       "      <td>-0.968254</td>\n",
       "      <td>0.148649</td>\n",
       "      <td>-0.619905</td>\n",
       "      <td>-0.887178</td>\n",
       "      <td>-0.976297</td>\n",
       "      <td>-0.971248</td>\n",
       "      <td>-0.966029</td>\n",
       "      <td>-0.974878</td>\n",
       "      <td>-0.996129</td>\n",
       "      <td>-0.976297</td>\n",
       "      <td>-0.999458</td>\n",
       "      <td>-0.975174</td>\n",
       "      <td>-0.566733</td>\n",
       "      <td>-0.948718</td>\n",
       "      <td>-0.285636</td>\n",
       "      <td>-0.446478</td>\n",
       "      <td>-0.756855</td>\n",
       "      <td>-0.985562</td>\n",
       "      <td>-0.985843</td>\n",
       "      <td>-0.984217</td>\n",
       "      <td>-0.988566</td>\n",
       "      <td>-0.992021</td>\n",
       "      <td>-0.985562</td>\n",
       "      <td>-0.999850</td>\n",
       "      <td>-0.984015</td>\n",
       "      <td>-0.849081</td>\n",
       "      <td>-0.936508</td>\n",
       "      <td>0.116695</td>\n",
       "      <td>-0.344418</td>\n",
       "      <td>-0.736124</td>\n",
       "      <td>-0.017067</td>\n",
       "      <td>0.154438</td>\n",
       "      <td>0.340134</td>\n",
       "      <td>0.296407</td>\n",
       "      <td>-0.698954</td>\n",
       "      <td>0.284114</td>\n",
       "      <td>-0.077108</td>\n",
       "    </tr>\n",
       "    <tr>\n",
       "      <th>4</th>\n",
       "      <td>0.274833</td>\n",
       "      <td>-0.027848</td>\n",
       "      <td>-0.129527</td>\n",
       "      <td>-0.993852</td>\n",
       "      <td>-0.967445</td>\n",
       "      <td>-0.978295</td>\n",
       "      <td>-0.994111</td>\n",
       "      <td>-0.965953</td>\n",
       "      <td>-0.977346</td>\n",
       "      <td>-0.938610</td>\n",
       "      <td>-0.560831</td>\n",
       "      <td>-0.825894</td>\n",
       "      <td>0.849179</td>\n",
       "      <td>0.670700</td>\n",
       "      <td>0.829897</td>\n",
       "      <td>-0.975283</td>\n",
       "      <td>-0.999954</td>\n",
       "      <td>-0.999467</td>\n",
       "      <td>-0.998823</td>\n",
       "      <td>-0.993498</td>\n",
       "      <td>-0.967032</td>\n",
       "      <td>-0.976257</td>\n",
       "      <td>-0.590576</td>\n",
       "      <td>-0.740206</td>\n",
       "      <td>-0.799419</td>\n",
       "      <td>0.115570</td>\n",
       "      <td>-0.028923</td>\n",
       "      <td>-0.032804</td>\n",
       "      <td>0.294340</td>\n",
       "      <td>0.000630</td>\n",
       "      <td>-0.045272</td>\n",
       "      <td>0.168419</td>\n",
       "      <td>-0.068156</td>\n",
       "      <td>0.074384</td>\n",
       "      <td>0.027138</td>\n",
       "      <td>-0.145931</td>\n",
       "      <td>-0.050197</td>\n",
       "      <td>0.235151</td>\n",
       "      <td>0.290487</td>\n",
       "      <td>0.457718</td>\n",
       "      <td>...</td>\n",
       "      <td>-0.999812</td>\n",
       "      <td>-0.989996</td>\n",
       "      <td>-1.000000</td>\n",
       "      <td>-0.809524</td>\n",
       "      <td>0.422249</td>\n",
       "      <td>-0.543096</td>\n",
       "      <td>-0.831313</td>\n",
       "      <td>-0.977007</td>\n",
       "      <td>-0.969619</td>\n",
       "      <td>-0.968915</td>\n",
       "      <td>-0.973746</td>\n",
       "      <td>-0.996970</td>\n",
       "      <td>-0.977007</td>\n",
       "      <td>-0.999429</td>\n",
       "      <td>-0.976111</td>\n",
       "      <td>-0.555564</td>\n",
       "      <td>-1.000000</td>\n",
       "      <td>-0.349061</td>\n",
       "      <td>-0.319763</td>\n",
       "      <td>-0.691739</td>\n",
       "      <td>-0.990498</td>\n",
       "      <td>-0.990572</td>\n",
       "      <td>-0.988406</td>\n",
       "      <td>-0.992653</td>\n",
       "      <td>-0.992505</td>\n",
       "      <td>-0.990498</td>\n",
       "      <td>-0.999925</td>\n",
       "      <td>-0.986376</td>\n",
       "      <td>-0.895847</td>\n",
       "      <td>-0.936508</td>\n",
       "      <td>-0.121711</td>\n",
       "      <td>-0.534685</td>\n",
       "      <td>-0.846595</td>\n",
       "      <td>-0.002223</td>\n",
       "      <td>-0.040046</td>\n",
       "      <td>0.736715</td>\n",
       "      <td>-0.118545</td>\n",
       "      <td>-0.692245</td>\n",
       "      <td>0.290722</td>\n",
       "      <td>-0.073857</td>\n",
       "    </tr>\n",
       "  </tbody>\n",
       "</table>\n",
       "<p>5 rows × 561 columns</p>\n",
       "</div>"
      ],
      "text/plain": [
       "   1 tBodyAcc-mean()-X  ...  561 angle(Z,gravityMean)\n",
       "0             0.257178  ...                 -0.057978\n",
       "1             0.286027  ...                 -0.083898\n",
       "2             0.275485  ...                 -0.079346\n",
       "3             0.270298  ...                 -0.077108\n",
       "4             0.274833  ...                 -0.073857\n",
       "\n",
       "[5 rows x 561 columns]"
      ]
     },
     "execution_count": 5,
     "metadata": {
      "tags": []
     },
     "output_type": "execute_result"
    }
   ],
   "source": [
    "X_test = pd.read_csv(google_drive+'test/X_test.txt', sep='\\s+', names=features, index_col=False)\n",
    "print(X_test.shape)\n",
    "X_test.head()"
   ]
  },
  {
   "cell_type": "markdown",
   "metadata": {
    "colab_type": "text",
    "id": "UQSTHTSaEfi4"
   },
   "source": [
    "Read y_test:"
   ]
  },
  {
   "cell_type": "code",
   "execution_count": 6,
   "metadata": {
    "colab": {
     "base_uri": "https://localhost:8080/",
     "height": 217
    },
    "colab_type": "code",
    "id": "bBJmXVjQJ389",
    "outputId": "8a7a736f-5565-4366-8fdc-a0e38ddd8fd8"
   },
   "outputs": [
    {
     "name": "stdout",
     "output_type": "stream",
     "text": [
      "(2947, 1)\n"
     ]
    },
    {
     "data": {
      "text/html": [
       "<div>\n",
       "<style scoped>\n",
       "    .dataframe tbody tr th:only-of-type {\n",
       "        vertical-align: middle;\n",
       "    }\n",
       "\n",
       "    .dataframe tbody tr th {\n",
       "        vertical-align: top;\n",
       "    }\n",
       "\n",
       "    .dataframe thead th {\n",
       "        text-align: right;\n",
       "    }\n",
       "</style>\n",
       "<table border=\"1\" class=\"dataframe\">\n",
       "  <thead>\n",
       "    <tr style=\"text-align: right;\">\n",
       "      <th></th>\n",
       "      <th>Activity No.</th>\n",
       "    </tr>\n",
       "  </thead>\n",
       "  <tbody>\n",
       "    <tr>\n",
       "      <th>0</th>\n",
       "      <td>5</td>\n",
       "    </tr>\n",
       "    <tr>\n",
       "      <th>1</th>\n",
       "      <td>5</td>\n",
       "    </tr>\n",
       "    <tr>\n",
       "      <th>2</th>\n",
       "      <td>5</td>\n",
       "    </tr>\n",
       "    <tr>\n",
       "      <th>3</th>\n",
       "      <td>5</td>\n",
       "    </tr>\n",
       "    <tr>\n",
       "      <th>4</th>\n",
       "      <td>5</td>\n",
       "    </tr>\n",
       "  </tbody>\n",
       "</table>\n",
       "</div>"
      ],
      "text/plain": [
       "   Activity No.\n",
       "0             5\n",
       "1             5\n",
       "2             5\n",
       "3             5\n",
       "4             5"
      ]
     },
     "execution_count": 6,
     "metadata": {
      "tags": []
     },
     "output_type": "execute_result"
    }
   ],
   "source": [
    "y_test = pd.read_csv(google_drive+'test/y_test.txt', sep='\\n', header=None, names=['Activity No.'])\n",
    "print(y_test.shape)\n",
    "y_test.head()"
   ]
  },
  {
   "cell_type": "markdown",
   "metadata": {
    "colab_type": "text",
    "id": "p4C55SxtLSop"
   },
   "source": [
    "### Step 1: Dimensionality Reduction"
   ]
  },
  {
   "cell_type": "markdown",
   "metadata": {
    "colab_type": "text",
    "id": "LOjkEBmQf7Wk"
   },
   "source": [
    "First of all, we try to visualise the training dataset using a dimension reduced method called TSNE.\n",
    "\n",
    "We can visualise the data in X_train in 2D to see the distribution of the points.\n",
    "\n",
    "To help understanding, we also color the points using different labels in y_train"
   ]
  },
  {
   "cell_type": "code",
   "execution_count": 0,
   "metadata": {
    "colab": {
     "base_uri": "https://localhost:8080/",
     "height": 32
    },
    "colab_type": "code",
    "id": "86tAiqZb0doK",
    "outputId": "2fd1cac1-513a-460a-8b2e-b76bf4438f68"
   },
   "outputs": [
    {
     "name": "stdout",
     "output_type": "stream",
     "text": [
      "(7352, 2)\n"
     ]
    }
   ],
   "source": [
    "X_tsne_2d = TSNE(n_components=2, perplexity=30.0, learning_rate=200.0).fit_transform(X_train.values)\n",
    "print(X_tsne_2d.shape)"
   ]
  },
  {
   "cell_type": "code",
   "execution_count": 0,
   "metadata": {
    "colab": {
     "base_uri": "https://localhost:8080/",
     "height": 269
    },
    "colab_type": "code",
    "id": "SCmM1KOq5gOb",
    "outputId": "2a7de178-0e9e-45a5-ede2-381d2541267e"
   },
   "outputs": [
    {
     "data": {
      "image/png": "[encoded data removed]",
      "text/plain": [
       "<Figure size 432x288 with 2 Axes>"
      ]
     },
     "metadata": {
      "tags": []
     },
     "output_type": "display_data"
    }
   ],
   "source": [
    "y_kmeansfig = plt.figure()\n",
    "scat = plt.scatter(X_tsne_2d[:,0], X_tsne_2d[:,1], c = y_train.values.flatten(), cmap = 'jet', alpha = 0.5)\n",
    "cb = plt.colorbar(scat, ticks=range(1,7))\n",
    "cb.set_label('Colors corresponding to labels')\n",
    "plt.show()\n",
    "plt.show()"
   ]
  },
  {
   "cell_type": "markdown",
   "metadata": {
    "colab_type": "text",
    "id": "WWSfCEnzEfjB"
   },
   "source": [
    "We can also visualise the data in 3D:"
   ]
  },
  {
   "cell_type": "code",
   "execution_count": 0,
   "metadata": {
    "colab": {},
    "colab_type": "code",
    "id": "30Br2-fD0doR"
   },
   "outputs": [],
   "source": [
    "X_tsne_3d = TSNE(n_components=3, perplexity=30, learning_rate=200.0).fit_transform(X_train.values)\n",
    "print(X_tsne_3d.shape)"
   ]
  },
  {
   "cell_type": "code",
   "execution_count": 0,
   "metadata": {
    "colab": {
     "base_uri": "https://localhost:8080/",
     "height": 258
    },
    "colab_type": "code",
    "id": "EEonxvIW7_qQ",
    "outputId": "0b789096-6724-4a0b-c245-4b11ebfb7433"
   },
   "outputs": [
    {
     "data": {
      "image/png": "[encoded data removed]",
      "text/plain": [
       "<Figure size 432x288 with 2 Axes>"
      ]
     },
     "metadata": {
      "tags": []
     },
     "output_type": "display_data"
    }
   ],
   "source": [
    "fig = plt.figure()\n",
    "ax = plt.axes(projection='3d')\n",
    "scat = ax.scatter3D(X_tsne_3d[:,0], X_tsne_3d[:,1], X_tsne_3d[:,2], c = y_train.values.flatten(), cmap = 'jet', alpha = 0.5)\n",
    "cb = plt.colorbar(scat, ticks=range(1,7))\n",
    "cb.set_label('Colors corresponding to labels')\n",
    "plt.show()"
   ]
  },
  {
   "cell_type": "markdown",
   "metadata": {
    "colab_type": "text",
    "id": "PjYxRAh4jqZ9"
   },
   "source": [
    "As we can see, activity 6 can be very well clustered and separated from others.\n",
    "\n",
    "But other activities can be difficult to seperate:\n",
    "- Activity 1, 2 and 3 are difficult to seperate\n",
    "- Activity 4 and 5 are difficult to seperate\n",
    "\n",
    "\n",
    "### Step 2: Clustering\n",
    "#### K-Means\n",
    "Let's try a 6 cluster K-Means Clustering:"
   ]
  },
  {
   "cell_type": "code",
   "execution_count": 0,
   "metadata": {
    "colab": {
     "base_uri": "https://localhost:8080/",
     "height": 280
    },
    "colab_type": "code",
    "id": "a1updzX_hB2C",
    "outputId": "c549900f-624a-4567-c75e-f64302ab1cda"
   },
   "outputs": [
    {
     "name": "stdout",
     "output_type": "stream",
     "text": [
      "KMeans Clustering [896, 353, 1397, 1546, 1289, 1871]\n"
     ]
    },
    {
     "data": {
      "image/png": "[encoded data removed]",
      "text/plain": [
       "<Figure size 432x288 with 1 Axes>"
      ]
     },
     "metadata": {
      "tags": []
     },
     "output_type": "display_data"
    }
   ],
   "source": [
    "# Try a 6 clusters K-Means Clustering\n",
    "cluster=6\n",
    "\n",
    "y_kmeans = KMeans(n_clusters=cluster, random_state=0).fit(X_train.values)\n",
    "print('KMeans Clustering', [np.sum(y_kmeans.labels_ == j) for j in range(cluster)])\n",
    "\n",
    "# Plot the graph with a mapping of the labels for each cluster, the color transparency reveals the quantity \n",
    "fig = plt.figure()\n",
    "plt.scatter(y_kmeans.labels_, y_train.values, c='r', alpha=0.002, s=600)\n",
    "my_x_ticks = np.arange(0, 6, 1)\n",
    "my_y_ticks = np.arange(0, 6, 1)\n",
    "plt.show()"
   ]
  },
  {
   "cell_type": "markdown",
   "metadata": {
    "colab_type": "text",
    "id": "wudQm5wOkjl5"
   },
   "source": [
    "In this plot, the x axis correspond to the cluster index, while the y axis correspond to the true label of the data inside each cluster.\n",
    "If the red color is darker, it means there is more data. Otherwise, there is less data.\n",
    "\n",
    "\n",
    "We can see that the clusters are quite vaste and a lot of labels are mixed inside each cluster. we need more clusters to distinguish the different features.\n",
    "\n",
    "Let's try a 12 cluters K-Means Clustering:"
   ]
  },
  {
   "cell_type": "code",
   "execution_count": 0,
   "metadata": {
    "colab": {
     "base_uri": "https://localhost:8080/",
     "height": 280
    },
    "colab_type": "code",
    "id": "vd36o4L30doh",
    "outputId": "f67af877-d5ec-44c5-adbb-097f3c4361d0"
   },
   "outputs": [
    {
     "name": "stdout",
     "output_type": "stream",
     "text": [
      "KMeans Clustering [1230, 822, 682, 632, 461, 248, 705, 191, 565, 250, 919, 647]\n"
     ]
    },
    {
     "data": {
      "image/png": "[encoded data removed]",
      "text/plain": [
       "<Figure size 432x288 with 1 Axes>"
      ]
     },
     "metadata": {
      "tags": []
     },
     "output_type": "display_data"
    }
   ],
   "source": [
    "#Try a 12 clusters K-Means Clustering\n",
    "cluster=12\n",
    "\n",
    "y_kmeans = KMeans(n_clusters=cluster, random_state=0).fit(X_train.values)\n",
    "print('KMeans Clustering', [np.sum(y_kmeans.labels_ == j) for j in range(cluster)])\n",
    "\n",
    "# Plot the graph with a mapping of the labels for each cluster, the color transparency reveals the quantity \n",
    "fig = plt.figure()\n",
    "plt.scatter(y_kmeans.labels_, y_train.values, c='r', alpha=0.002, s=600)\n",
    "my_x_ticks = np.arange(0, 12, 1)\n",
    "my_y_ticks = np.arange(0, 6, 1)\n",
    "plt.show()"
   ]
  },
  {
   "cell_type": "markdown",
   "metadata": {
    "colab_type": "text",
    "id": "9YaGscN8l0yF"
   },
   "source": [
    "#### AHC\n",
    "Let's try AHC clustering method with 12 clusters.\n",
    "We use 4 different linkages of AHC clustering:\n",
    "- ward linkage\n",
    "- complete linkage\n",
    "- average linkage\n",
    "- single linkage"
   ]
  },
  {
   "cell_type": "code",
   "execution_count": 0,
   "metadata": {
    "colab": {
     "base_uri": "https://localhost:8080/",
     "height": 1000
    },
    "colab_type": "code",
    "id": "AZuEQuX40doa",
    "outputId": "3d0c0b38-a44f-4847-af2f-97a94b83cd0b"
   },
   "outputs": [
    {
     "name": "stdout",
     "output_type": "stream",
     "text": [
      "Agglomerative Clustering, linkage ward  [1255, 1195, 218, 667, 1460, 816, 181, 305, 54, 414, 672, 115]\n"
     ]
    },
    {
     "data": {
      "image/png": "[encoded data removed]",
      "text/plain": [
       "<Figure size 432x288 with 1 Axes>"
      ]
     },
     "metadata": {
      "tags": []
     },
     "output_type": "display_data"
    },
    {
     "name": "stdout",
     "output_type": "stream",
     "text": [
      "Agglomerative Clustering, linkage complete  [109, 492, 3989, 54, 60, 1023, 16, 2, 10, 7, 17, 1573]\n"
     ]
    },
    {
     "data": {
      "image/png": "[encoded data removed]",
      "text/plain": [
       "<Figure size 432x288 with 1 Axes>"
      ]
     },
     "metadata": {
      "tags": []
     },
     "output_type": "display_data"
    },
    {
     "name": "stdout",
     "output_type": "stream",
     "text": [
      "Agglomerative Clustering, linkage average  [46, 37, 23, 3, 4, 3153, 4023, 1, 5, 2, 54, 1]\n"
     ]
    },
    {
     "data": {
      "image/png": "[encoded data removed]",
      "text/plain": [
       "<Figure size 432x288 with 1 Axes>"
      ]
     },
     "metadata": {
      "tags": []
     },
     "output_type": "display_data"
    },
    {
     "name": "stdout",
     "output_type": "stream",
     "text": [
      "Agglomerative Clustering, linkage single  [7323, 14, 3, 2, 2, 1, 2, 1, 1, 1, 1, 1]\n"
     ]
    },
    {
     "data": {
      "image/png": "[encoded data removed]",
      "text/plain": [
       "<Figure size 432x288 with 1 Axes>"
      ]
     },
     "metadata": {
      "tags": []
     },
     "output_type": "display_data"
    }
   ],
   "source": [
    "#Try a 12 clusters Agglomerative Clustering with different parameters\n",
    "param_linkage = ['ward', 'complete', 'average', 'single']\n",
    "cluster=12\n",
    "\n",
    "# Plot the graph with a mapping of the labels for each cluster, the color transparency reveals the quantity \n",
    "fig = plt.figure()\n",
    "for i in range(4):\n",
    "    y_ahc = AgglomerativeClustering(n_clusters=cluster, linkage = param_linkage[i]).fit(X_train.values)\n",
    "    print('Agglomerative Clustering, linkage %s ' % param_linkage[i], [np.sum(y_ahc.labels_ == j) for j in range(cluster)])\n",
    "    plt.scatter(y_ahc.labels_, y_train.values, c='r', alpha=0.002, s=600)\n",
    "    my_x_ticks = np.arange(0, 12, 1)\n",
    "    my_y_ticks = np.arange(0, 6, 1)\n",
    "    plt.show()"
   ]
  },
  {
   "cell_type": "markdown",
   "metadata": {
    "colab_type": "text",
    "id": "kuYORPffQfVl"
   },
   "source": [
    "Compare these results, we can conclude that the AHC clustering with ward linkage has the best result. The results of other linkages are not quite seperable."
   ]
  },
  {
   "cell_type": "markdown",
   "metadata": {
    "colab_type": "text",
    "id": "3Q9PYph5EfjQ"
   },
   "source": [
    "#### GMM\n",
    "Then let's use GMM to generate 12 clusters."
   ]
  },
  {
   "cell_type": "code",
   "execution_count": 7,
   "metadata": {
    "colab": {
     "base_uri": "https://localhost:8080/",
     "height": 280
    },
    "colab_type": "code",
    "id": "SF3PD_Ss0dop",
    "outputId": "b7adc78b-07eb-4e3e-e877-841a61ba02f3"
   },
   "outputs": [
    {
     "name": "stdout",
     "output_type": "stream",
     "text": [
      "GMM Clustering [511, 1059, 640, 906, 276, 763, 285, 350, 693, 1369, 364, 136]\n"
     ]
    },
    {
     "data": {
      "image/png": "[encoded data removed]",
      "text/plain": [
       "<Figure size 432x288 with 1 Axes>"
      ]
     },
     "metadata": {
      "tags": []
     },
     "output_type": "display_data"
    }
   ],
   "source": [
    "#Try the Gaussian Mixture Clustering\n",
    "cluster=12\n",
    "\n",
    "gmm = GaussianMixture(n_components=cluster).fit(X_train.values)\n",
    "y_gmm = gmm.predict(X_train.values)\n",
    "print('GMM Clustering', [np.sum(y_gmm == j) for j in range(cluster)])\n",
    "\n",
    "# Plot the graph with a mapping of the labels for each cluster, the color transparency reveals the quantity \n",
    "fig = plt.figure()\n",
    "plt.scatter(y_gmm, y_train.values, c='r', alpha=0.002, s=600)\n",
    "my_x_ticks = np.arange(0, 12, 1)\n",
    "my_y_ticks = np.arange(0, 6, 1)\n",
    "plt.show()"
   ]
  },
  {
   "cell_type": "markdown",
   "metadata": {
    "colab_type": "text",
    "id": "ieCTm5BpoenX"
   },
   "source": [
    "We can see on the mapping graph that for each cluster, there are often more than one label mapped to it but one label would be more pronouced. So the result of cluster can correspond to the classifier in certain level. \n",
    "\n",
    "To compare the accuracy, we map the cluster to the most pronouced class label:"
   ]
  },
  {
   "cell_type": "code",
   "execution_count": 8,
   "metadata": {
    "colab": {
     "base_uri": "https://localhost:8080/",
     "height": 32
    },
    "colab_type": "code",
    "id": "pF38eBB8MEj4",
    "outputId": "03124e2b-a733-49d6-a953-4af15d11f802"
   },
   "outputs": [
    {
     "name": "stdout",
     "output_type": "stream",
     "text": [
      "{0: 4, 1: 2, 2: 5, 3: 1, 4: 2, 5: 3, 6: 3, 7: 6, 8: 6, 9: 4, 10: 6, 11: 4}\n"
     ]
    }
   ],
   "source": [
    "#From the scatter plot we map the clusters to the most pronouced class and make a dictionary from GMM clustering\n",
    "correspondance_dict = dict()\n",
    "for i in range (cluster):\n",
    "  y_train_mask = y_train.values.reshape(len(y_train))[y_gmm == i]\n",
    "  correspond_label = max(y_train_mask,key=list(y_train_mask).count)\n",
    "  correspondance_dict.update( {i : correspond_label} )\n",
    "\n",
    "print(correspondance_dict)"
   ]
  },
  {
   "cell_type": "code",
   "execution_count": 0,
   "metadata": {
    "colab": {},
    "colab_type": "code",
    "id": "sIgL-xx6hiD8"
   },
   "outputs": [],
   "source": [
    "# Define a function to replace the cluster number to the class\n",
    "def replace_with_dict(ar, dic):\n",
    "    # Extract out keys and values\n",
    "    k = np.array(list(dic.keys()))\n",
    "    v = np.array(list(dic.values()))\n",
    "\n",
    "    # Get argsort indices\n",
    "    sidx = k.argsort()\n",
    "\n",
    "    # Drop the magic bomb with searchsorted to get the corresponding\n",
    "    # places for a in keys (using sorter since a is not necessarily sorted).\n",
    "    # Then trace it back to original order with indexing into sidx\n",
    "    # Finally index into values for desired output.\n",
    "    return v[sidx[np.searchsorted(k,ar,sorter=sidx)]]"
   ]
  },
  {
   "cell_type": "markdown",
   "metadata": {
    "colab_type": "text",
    "id": "H5HHD3ybEfjc"
   },
   "source": [
    "Show the percentage of each label after the mapping:"
   ]
  },
  {
   "cell_type": "code",
   "execution_count": 10,
   "metadata": {
    "colab": {
     "base_uri": "https://localhost:8080/",
     "height": 263
    },
    "colab_type": "code",
    "id": "NNTEx8piODJ_",
    "outputId": "87eb0357-c47c-42fe-a701-f4e8dfffa51d"
   },
   "outputs": [
    {
     "data": {
      "image/png": "[encoded data removed]",
      "text/plain": [
       "<Figure size 432x288 with 1 Axes>"
      ]
     },
     "metadata": {
      "tags": []
     },
     "output_type": "display_data"
    }
   ],
   "source": [
    "# Replace the cluster number with the mapped lables\n",
    "y_gmm_replaced = replace_with_dict(y_gmm, correspondance_dict)\n",
    "\n",
    "# Show the percentage of each label after the mapping\n",
    "fig = plt.figure()\n",
    "n, bins, patches = plt.hist(y_gmm_replaced, 50, density=True, facecolor='g', alpha=0.75)\n",
    "plt.show()"
   ]
  },
  {
   "cell_type": "markdown",
   "metadata": {
    "colab_type": "text",
    "id": "J-9AMm_qEfjg"
   },
   "source": [
    "Print the classification report and confusion matrix after mapping the cluster to the most pronouced class label:"
   ]
  },
  {
   "cell_type": "code",
   "execution_count": 11,
   "metadata": {
    "colab": {
     "base_uri": "https://localhost:8080/",
     "height": 362
    },
    "colab_type": "code",
    "id": "RxvqIz2XR5Tu",
    "outputId": "9d564083-4ed3-45d6-c914-14d23b22c3cf",
    "scrolled": false
   },
   "outputs": [
    {
     "name": "stdout",
     "output_type": "stream",
     "text": [
      "              precision    recall  f1-score   support\n",
      "\n",
      "           1       0.84      0.62      0.71      1226\n",
      "           2       0.67      0.83      0.74      1073\n",
      "           3       0.76      0.81      0.78       986\n",
      "           4       0.52      0.81      0.63      1286\n",
      "           5       0.69      0.32      0.44      1374\n",
      "           6       0.97      0.97      0.97      1407\n",
      "\n",
      "    accuracy                           0.72      7352\n",
      "   macro avg       0.74      0.73      0.71      7352\n",
      "weighted avg       0.74      0.72      0.71      7352\n",
      "\n",
      "\n",
      " CONFUSION MATRIX\n",
      "[[ 762  309  155    0    0    0]\n",
      " [  80  894   99    0    0    0]\n",
      " [  64  128  794    0    0    0]\n",
      " [   0    1    0 1040  197   48]\n",
      " [   0    0    0  931  443    0]\n",
      " [   0    3    0   45    0 1359]]\n"
     ]
    }
   ],
   "source": [
    "y_true, y_pred = y_train, y_gmm_replaced\n",
    "print( classification_report(y_true, y_pred) )\n",
    "print(\"\\n CONFUSION MATRIX\")\n",
    "print( confusion_matrix(y_true, y_pred) )"
   ]
  },
  {
   "cell_type": "markdown",
   "metadata": {
    "colab_type": "text",
    "id": "8ZwdrfYftiyx"
   },
   "source": [
    "The score is not too bad (around 70%)"
   ]
  },
  {
   "cell_type": "markdown",
   "metadata": {
    "colab_type": "text",
    "id": "KN364hN3sV9V"
   },
   "source": [
    "We try to keep the same mapping dictionary to classify the test dataset to see if it is possible:"
   ]
  },
  {
   "cell_type": "code",
   "execution_count": 12,
   "metadata": {
    "colab": {
     "base_uri": "https://localhost:8080/",
     "height": 280
    },
    "colab_type": "code",
    "id": "3zR3GCkqqvKX",
    "outputId": "37bd359a-ceb4-49e2-98b6-377a6ce08e8d"
   },
   "outputs": [
    {
     "name": "stdout",
     "output_type": "stream",
     "text": [
      "GMM Clustering [511, 1059, 640, 906, 276, 763, 285, 350, 693, 1369, 364, 136]\n"
     ]
    },
    {
     "data": {
      "image/png": "[encoded data removed]",
      "text/plain": [
       "<Figure size 432x288 with 1 Axes>"
      ]
     },
     "metadata": {
      "tags": []
     },
     "output_type": "display_data"
    }
   ],
   "source": [
    "#Try the Gaussian Mixture Clustering\n",
    "\n",
    "y_gmm_test = gmm.predict(X_test.values)\n",
    "print('GMM Clustering', [np.sum(y_gmm == j) for j in range(cluster)])\n",
    "\n",
    "# Replace the cluster number with the mapped lables\n",
    "y_gmm_test_replaced = replace_with_dict(y_gmm_test, correspondance_dict)\n",
    "\n",
    "# Show the percentage of each label after the mapping\n",
    "fig = plt.figure()\n",
    "n, bins, patches = plt.hist(y_gmm_test_replaced, 50, density=True, facecolor='g', alpha=0.75)\n",
    "plt.show()"
   ]
  },
  {
   "cell_type": "code",
   "execution_count": 13,
   "metadata": {
    "colab": {
     "base_uri": "https://localhost:8080/",
     "height": 362
    },
    "colab_type": "code",
    "id": "JDwWfu16rEKM",
    "outputId": "ab168e78-5dcb-49fb-9c48-d930021cc521"
   },
   "outputs": [
    {
     "name": "stdout",
     "output_type": "stream",
     "text": [
      "              precision    recall  f1-score   support\n",
      "\n",
      "           1       0.86      0.69      0.76       496\n",
      "           2       0.70      0.86      0.77       471\n",
      "           3       0.72      0.77      0.75       420\n",
      "           4       0.55      0.74      0.63       491\n",
      "           5       0.65      0.41      0.51       532\n",
      "           6       1.00      0.98      0.99       537\n",
      "\n",
      "    accuracy                           0.74      2947\n",
      "   macro avg       0.75      0.74      0.73      2947\n",
      "weighted avg       0.75      0.74      0.74      2947\n",
      "\n",
      "\n",
      " CONFUSION MATRIX\n",
      "[[340  77  79   0   0   0]\n",
      " [ 21 405  45   0   0   0]\n",
      " [ 33  62 325   0   0   0]\n",
      " [  0  14   0 361 116   0]\n",
      " [  0  14   0 298 220   0]\n",
      " [  0   9   0   0   0 528]]\n"
     ]
    }
   ],
   "source": [
    "y_true, y_pred = y_test, y_gmm_test_replaced\n",
    "print( classification_report(y_true, y_pred) )\n",
    "print(\"\\n CONFUSION MATRIX\")\n",
    "print( confusion_matrix(y_true, y_pred) )"
   ]
  },
  {
   "cell_type": "markdown",
   "metadata": {
    "colab_type": "text",
    "id": "b4vkKi2ttPu3"
   },
   "source": [
    "The score is similar to the training dataset. So it is possible to use the clustering method to classify."
   ]
  },
  {
   "cell_type": "markdown",
   "metadata": {
    "colab_type": "text",
    "id": "gfIWv8vJPPXn"
   },
   "source": [
    "Conclusion: After the analyse of the training dataset, we can see that if we use the Clustering method to divide the samples and then label them, we can have a average score around 70%. It is possible to use this method.\n",
    "\n",
    "Next step, we need to see with supervised classification method, how the accuracy changes."
   ]
  },
  {
   "cell_type": "markdown",
   "metadata": {
    "colab_type": "text",
    "id": "Dklv-iiNbZYI"
   },
   "source": [
    "### Step 3: Classification"
   ]
  },
  {
   "cell_type": "markdown",
   "metadata": {
    "colab_type": "text",
    "id": "0UYvgbTXEfjr"
   },
   "source": [
    "We use firstly the Random Forest classifier to classify each training sample and test them on the test dataset"
   ]
  },
  {
   "cell_type": "code",
   "execution_count": 0,
   "metadata": {
    "colab": {
     "base_uri": "https://localhost:8080/",
     "height": 757
    },
    "colab_type": "code",
    "id": "LtEaC36DJ319",
    "outputId": "6d3fb3d0-f81f-4b5e-c8a9-a0cf9fa9ae16"
   },
   "outputs": [
    {
     "name": "stdout",
     "output_type": "stream",
     "text": [
      "Best parameters set found on development set:\n",
      "\n",
      "{'max_depth': 7, 'max_features': 5, 'n_estimators': 50}\n",
      "\n",
      "GridSearchCV(cv=5, error_score='raise-deprecating',\n",
      "             estimator=RandomForestClassifier(bootstrap=True, class_weight=None,\n",
      "                                              criterion='gini', max_depth=None,\n",
      "                                              max_features='auto',\n",
      "                                              max_leaf_nodes=None,\n",
      "                                              min_impurity_decrease=1e-07,\n",
      "                                              min_impurity_split=None,\n",
      "                                              min_samples_leaf=1,\n",
      "                                              min_samples_split=2,\n",
      "                                              min_weight_fraction_leaf=0.0,\n",
      "                                              n_estimators='warn', n_jobs=1,\n",
      "                                              oob_score=False,\n",
      "                                              random_state=None, verbose=0,\n",
      "                                              warm_start=False),\n",
      "             iid='warn', n_jobs=None,\n",
      "             param_grid=[{'max_depth': [4, 5, 6, 7], 'max_features': [3, 4, 5],\n",
      "                          'n_estimators': [10, 30, 50, 70, 90]}],\n",
      "             pre_dispatch='2*n_jobs', refit=True, return_train_score=False,\n",
      "             scoring='accuracy', verbose=0)\n",
      "Acuracy (on test set) =  0.8883610451306413\n",
      "              precision    recall  f1-score   support\n",
      "\n",
      "           1       0.84      0.97      0.90       496\n",
      "           2       0.89      0.92      0.90       471\n",
      "           3       0.94      0.72      0.81       420\n",
      "           4       1.00      0.69      0.81       491\n",
      "           5       0.77      1.00      0.87       532\n",
      "           6       0.99      0.99      0.99       537\n",
      "\n",
      "    accuracy                           0.89      2947\n",
      "   macro avg       0.90      0.88      0.88      2947\n",
      "weighted avg       0.90      0.89      0.89      2947\n",
      "\n",
      "\n",
      " CONFUSION MATRIX\n",
      "[[482   0  14   0   0   0]\n",
      " [ 30 434   7   0   0   0]\n",
      " [ 62  55 303   0   0   0]\n",
      " [  0   1   0 338 149   3]\n",
      " [  0   0   0   1 531   0]\n",
      " [  0   0   0   0   7 530]]\n"
     ]
    }
   ],
   "source": [
    "# Create and train a Random Forest classifier\n",
    "\n",
    "param_grid = [\n",
    "  {'n_estimators': [10, 30, 50, 70, 90], \n",
    "   'max_depth':[4, 5, 6, 7],\n",
    "   'max_features': [3, 4, 5]}\n",
    " ]\n",
    "\n",
    "# Cross-validation grid-search (for finding best possible accuracy)\n",
    "clf = GridSearchCV( RandomForestClassifier(criterion='gini',\n",
    "                             min_samples_split=2, min_samples_leaf=1, \n",
    "                             min_weight_fraction_leaf=0.0, max_features='auto', \n",
    "                             max_leaf_nodes=None, min_impurity_decrease=1e-07, bootstrap=True, \n",
    "                             oob_score=False, n_jobs=1, random_state=None, \n",
    "                             verbose=0, warm_start=False, class_weight=None),\n",
    "                   param_grid, cv=5, scoring='accuracy') \n",
    "                 \n",
    "clf = clf.fit(X_train.values, y_train.values)\n",
    "\n",
    "print(\"Best parameters set found on development set:\")\n",
    "print()\n",
    "print(clf.best_params_)\n",
    "print()\n",
    "\n",
    "\n",
    "# Evaluate acuracy on test data\n",
    "print(clf)\n",
    "score = clf.score(X_test.values, y_test.values)\n",
    "print(\"Acuracy (on test set) = \", score)\n",
    "from sklearn.metrics import classification_report\n",
    "from sklearn.metrics import confusion_matrix\n",
    "y_true, y_pred = y_test, clf.predict(X_test.values)\n",
    "print( classification_report(y_true, y_pred) )\n",
    "print(\"\\n CONFUSION MATRIX\")\n",
    "print( confusion_matrix(y_true, y_pred) )"
   ]
  },
  {
   "cell_type": "markdown",
   "metadata": {
    "colab_type": "text",
    "id": "mSWwYBbVEfjw"
   },
   "source": [
    "Let's try the MLP Classifier:"
   ]
  },
  {
   "cell_type": "code",
   "execution_count": 0,
   "metadata": {
    "colab": {
     "base_uri": "https://localhost:8080/",
     "height": 1000
    },
    "colab_type": "code",
    "id": "4asGThuyJ3tW",
    "outputId": "cee6cd4a-84e5-4eca-c1e0-c6a8dc476e59"
   },
   "outputs": [
    {
     "name": "stdout",
     "output_type": "stream",
     "text": [
      "[{'hidden_layer_sizes': [(5,), (10,), (20,), (40,)], 'learning_rate_init': [0.003, 0.01, 0.03, 0.1], 'alpha': [1e-05, 0.0001, 0.001]}]\n",
      "Best parameters set found on development set:\n",
      "\n",
      "{'alpha': 1e-05, 'hidden_layer_sizes': (10,), 'learning_rate_init': 0.003}\n",
      "\n",
      "Grid scores on development set:\n",
      "\n",
      "0.844 (+/-0.106) for {'alpha': 1e-05, 'hidden_layer_sizes': (5,), 'learning_rate_init': 0.003}\n",
      "0.839 (+/-0.084) for {'alpha': 1e-05, 'hidden_layer_sizes': (5,), 'learning_rate_init': 0.01}\n",
      "0.471 (+/-0.186) for {'alpha': 1e-05, 'hidden_layer_sizes': (5,), 'learning_rate_init': 0.03}\n",
      "0.353 (+/-0.137) for {'alpha': 1e-05, 'hidden_layer_sizes': (5,), 'learning_rate_init': 0.1}\n",
      "0.929 (+/-0.059) for {'alpha': 1e-05, 'hidden_layer_sizes': (10,), 'learning_rate_init': 0.003}\n",
      "0.851 (+/-0.118) for {'alpha': 1e-05, 'hidden_layer_sizes': (10,), 'learning_rate_init': 0.01}\n",
      "0.473 (+/-0.069) for {'alpha': 1e-05, 'hidden_layer_sizes': (10,), 'learning_rate_init': 0.03}\n",
      "0.386 (+/-0.065) for {'alpha': 1e-05, 'hidden_layer_sizes': (10,), 'learning_rate_init': 0.1}\n",
      "0.922 (+/-0.038) for {'alpha': 1e-05, 'hidden_layer_sizes': (20,), 'learning_rate_init': 0.003}\n",
      "0.837 (+/-0.098) for {'alpha': 1e-05, 'hidden_layer_sizes': (20,), 'learning_rate_init': 0.01}\n",
      "0.469 (+/-0.052) for {'alpha': 1e-05, 'hidden_layer_sizes': (20,), 'learning_rate_init': 0.03}\n",
      "0.393 (+/-0.046) for {'alpha': 1e-05, 'hidden_layer_sizes': (20,), 'learning_rate_init': 0.1}\n",
      "0.919 (+/-0.054) for {'alpha': 1e-05, 'hidden_layer_sizes': (40,), 'learning_rate_init': 0.003}\n",
      "0.842 (+/-0.146) for {'alpha': 1e-05, 'hidden_layer_sizes': (40,), 'learning_rate_init': 0.01}\n",
      "0.450 (+/-0.070) for {'alpha': 1e-05, 'hidden_layer_sizes': (40,), 'learning_rate_init': 0.03}\n",
      "0.371 (+/-0.040) for {'alpha': 1e-05, 'hidden_layer_sizes': (40,), 'learning_rate_init': 0.1}\n",
      "0.841 (+/-0.117) for {'alpha': 0.0001, 'hidden_layer_sizes': (5,), 'learning_rate_init': 0.003}\n",
      "0.717 (+/-0.162) for {'alpha': 0.0001, 'hidden_layer_sizes': (5,), 'learning_rate_init': 0.01}\n",
      "0.419 (+/-0.059) for {'alpha': 0.0001, 'hidden_layer_sizes': (5,), 'learning_rate_init': 0.03}\n",
      "0.355 (+/-0.004) for {'alpha': 0.0001, 'hidden_layer_sizes': (5,), 'learning_rate_init': 0.1}\n",
      "0.919 (+/-0.052) for {'alpha': 0.0001, 'hidden_layer_sizes': (10,), 'learning_rate_init': 0.003}\n",
      "0.827 (+/-0.057) for {'alpha': 0.0001, 'hidden_layer_sizes': (10,), 'learning_rate_init': 0.01}\n",
      "0.424 (+/-0.064) for {'alpha': 0.0001, 'hidden_layer_sizes': (10,), 'learning_rate_init': 0.03}\n",
      "0.376 (+/-0.072) for {'alpha': 0.0001, 'hidden_layer_sizes': (10,), 'learning_rate_init': 0.1}\n",
      "0.928 (+/-0.043) for {'alpha': 0.0001, 'hidden_layer_sizes': (20,), 'learning_rate_init': 0.003}\n",
      "0.809 (+/-0.104) for {'alpha': 0.0001, 'hidden_layer_sizes': (20,), 'learning_rate_init': 0.01}\n",
      "0.404 (+/-0.062) for {'alpha': 0.0001, 'hidden_layer_sizes': (20,), 'learning_rate_init': 0.03}\n",
      "0.367 (+/-0.036) for {'alpha': 0.0001, 'hidden_layer_sizes': (20,), 'learning_rate_init': 0.1}\n",
      "0.922 (+/-0.063) for {'alpha': 0.0001, 'hidden_layer_sizes': (40,), 'learning_rate_init': 0.003}\n",
      "0.810 (+/-0.119) for {'alpha': 0.0001, 'hidden_layer_sizes': (40,), 'learning_rate_init': 0.01}\n",
      "0.446 (+/-0.077) for {'alpha': 0.0001, 'hidden_layer_sizes': (40,), 'learning_rate_init': 0.03}\n",
      "0.365 (+/-0.032) for {'alpha': 0.0001, 'hidden_layer_sizes': (40,), 'learning_rate_init': 0.1}\n",
      "0.888 (+/-0.108) for {'alpha': 0.001, 'hidden_layer_sizes': (5,), 'learning_rate_init': 0.003}\n",
      "0.669 (+/-0.305) for {'alpha': 0.001, 'hidden_layer_sizes': (5,), 'learning_rate_init': 0.01}\n",
      "0.376 (+/-0.044) for {'alpha': 0.001, 'hidden_layer_sizes': (5,), 'learning_rate_init': 0.03}\n",
      "0.335 (+/-0.156) for {'alpha': 0.001, 'hidden_layer_sizes': (5,), 'learning_rate_init': 0.1}\n",
      "0.913 (+/-0.082) for {'alpha': 0.001, 'hidden_layer_sizes': (10,), 'learning_rate_init': 0.003}\n",
      "0.781 (+/-0.089) for {'alpha': 0.001, 'hidden_layer_sizes': (10,), 'learning_rate_init': 0.01}\n",
      "0.387 (+/-0.046) for {'alpha': 0.001, 'hidden_layer_sizes': (10,), 'learning_rate_init': 0.03}\n",
      "0.350 (+/-0.044) for {'alpha': 0.001, 'hidden_layer_sizes': (10,), 'learning_rate_init': 0.1}\n",
      "0.925 (+/-0.045) for {'alpha': 0.001, 'hidden_layer_sizes': (20,), 'learning_rate_init': 0.003}\n",
      "0.714 (+/-0.221) for {'alpha': 0.001, 'hidden_layer_sizes': (20,), 'learning_rate_init': 0.01}\n",
      "0.392 (+/-0.034) for {'alpha': 0.001, 'hidden_layer_sizes': (20,), 'learning_rate_init': 0.03}\n",
      "0.327 (+/-0.033) for {'alpha': 0.001, 'hidden_layer_sizes': (20,), 'learning_rate_init': 0.1}\n",
      "0.911 (+/-0.041) for {'alpha': 0.001, 'hidden_layer_sizes': (40,), 'learning_rate_init': 0.003}\n",
      "0.772 (+/-0.138) for {'alpha': 0.001, 'hidden_layer_sizes': (40,), 'learning_rate_init': 0.01}\n",
      "0.373 (+/-0.051) for {'alpha': 0.001, 'hidden_layer_sizes': (40,), 'learning_rate_init': 0.03}\n",
      "0.360 (+/-0.049) for {'alpha': 0.001, 'hidden_layer_sizes': (40,), 'learning_rate_init': 0.1}\n",
      "\n",
      "Detailed classification report:\n",
      "\n",
      "The model is trained on the full development set.\n",
      "The scores are computed on the full evaluation set.\n",
      "\n",
      "              precision    recall  f1-score   support\n",
      "\n",
      "           1       0.91      1.00      0.95       496\n",
      "           2       0.91      0.92      0.92       471\n",
      "           3       1.00      0.89      0.94       420\n",
      "           4       0.90      0.91      0.91       491\n",
      "           5       0.93      0.91      0.92       532\n",
      "           6       1.00      1.00      1.00       537\n",
      "\n",
      "    accuracy                           0.94      2947\n",
      "   macro avg       0.94      0.94      0.94      2947\n",
      "weighted avg       0.94      0.94      0.94      2947\n",
      "\n",
      "\n"
     ]
    }
   ],
   "source": [
    "# Create and train a MLP classifier\n",
    "\n",
    "param_grid = [\n",
    "  {'hidden_layer_sizes': [(5,), (10,), (20,), (40,)], \n",
    "   'learning_rate_init':[0.003, 0.01, 0.03, 0.1],\n",
    "   'alpha': [0.00001, 0.0001, 0.001]}\n",
    " ]\n",
    "print(param_grid)\n",
    "\n",
    "# Cross-validation grid-search (for finding best possible accuracy)\n",
    "clf = GridSearchCV( MLPClassifier(activation='tanh', batch_size=4, beta_1=0.9,\n",
    "                                  beta_2=0.999, early_stopping=True, epsilon=1e-08,\n",
    "                                  learning_rate='constant',\n",
    "                                  max_iter=200, momentum=0.8,\n",
    "                                  nesterovs_momentum=True, power_t=0.5, random_state=11, shuffle=True,\n",
    "                                  solver='adam', tol=1e-05, validation_fraction=0.3, verbose=False,\n",
    "                                  warm_start=False), \n",
    "                   param_grid, cv=5, scoring='accuracy') \n",
    "    \n",
    "clf.fit(X_train.values, y_train.values)\n",
    "print(\"Best parameters set found on development set:\")\n",
    "print()\n",
    "print(clf.best_params_)\n",
    "print()\n",
    "print(\"Grid scores on development set:\")\n",
    "print()\n",
    "means = clf.cv_results_['mean_test_score']\n",
    "stds = clf.cv_results_['std_test_score']\n",
    "for mean, std, params in zip(means, stds, clf.cv_results_['params']):\n",
    "    print(\"%0.3f (+/-%0.03f) for %r\"\n",
    "           % (mean, std * 2, params))\n",
    "print()\n",
    "print(\"Detailed classification report:\")\n",
    "print()\n",
    "print(\"The model is trained on the full development set.\")\n",
    "print(\"The scores are computed on the full evaluation set.\")\n",
    "print()\n",
    "y_true, y_pred = y_test, clf.predict(X_test.values)\n",
    "print(classification_report(y_true, y_pred))\n",
    "print()"
   ]
  },
  {
   "cell_type": "markdown",
   "metadata": {
    "colab_type": "text",
    "id": "Cv-xhkYVmS4R"
   },
   "source": [
    "The results shows that we have at least 20% more accuracy than the clustering method even for the test dataset. \n",
    "\n",
    "To compare, it is possible to use the clustering method to classify but the score is lower than the classical classification method.\n",
    "\n",
    "So the best way is to use the supervised classification method such as Random Forest or MLP. The MLP method provide a better result but it takes much more time to train (30 mins to 1h) than RF (less than 1 min)."
   ]
  },
  {
   "cell_type": "code",
   "execution_count": 0,
   "metadata": {
    "colab": {},
    "colab_type": "code",
    "id": "HLHIGmRrU_ab"
   },
   "outputs": [],
   "source": []
  }
 ],
 "metadata": {
  "accelerator": "GPU",
  "colab": {
   "collapsed_sections": [],
   "name": "uci_HAR_clustering_classification.ipynb",
   "provenance": [],
   "toc_visible": true
  },
  "kernelspec": {
   "display_name": "Python 3",
   "language": "python",
   "name": "python3"
  },
  "language_info": {
   "codemirror_mode": {
    "name": "ipython",
    "version": 3
   },
   "file_extension": ".py",
   "mimetype": "text/x-python",
   "name": "python",
   "nbconvert_exporter": "python",
   "pygments_lexer": "ipython3",
   "version": "3.7.3"
  }
 },
 "nbformat": 4,
 "nbformat_minor": 1
}
